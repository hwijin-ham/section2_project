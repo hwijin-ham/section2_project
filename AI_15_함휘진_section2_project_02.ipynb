{
  "nbformat": 4,
  "nbformat_minor": 0,
  "metadata": {
    "colab": {
      "provenance": [],
      "collapsed_sections": []
    },
    "kernelspec": {
      "name": "python3",
      "display_name": "Python 3"
    },
    "language_info": {
      "name": "python"
    }
  },
  "cells": [
    {
      "cell_type": "code",
      "execution_count": null,
      "metadata": {
        "id": "MLqC1UuqEcBC"
      },
      "outputs": [],
      "source": [
        "import pandas as pd"
      ]
    },
    {
      "cell_type": "code",
      "source": [
        "# 단위 -> 일별로 정리\n",
        "'''\n",
        "from datetime import datetime\n",
        "\n",
        "def today(df):\n",
        "  df = df.set_index('시간')\n",
        "  df.index = pd.to_datetime(df.index)\n",
        "  df = df.fillna(df.interpolate()) # 데이터 앞 뒤 평균으로 보간 \n",
        "  df = df.resample(rule='D').mean()\n",
        "  df.columns=['내부온도관측치', '내부습도관측치', 'CO2관측치', 'EC관측치', '외부온도관측치', '외부습도관측치', '펌프상태',\n",
        "       '펌프작동남은시간', '펌프최근분무량', '펌프일간누적분무량', '냉방상태', '냉방작동남은시간', '난방상태',\n",
        "       '난방작동남은시간', '내부유동팬상태', '내부유동팬작동남은시간', '외부환기팬상태', '외부환기팬작동남은시간',\n",
        "       '화이트 LED상태', '화이트 LED작동남은시간', '화이트 LED동작강도', '레드 LED상태', '레드 LED작동남은시간',\n",
        "       '레드 LED동작강도', '블루 LED상태', '블루 LED작동남은시간', '블루 LED동작강도', '카메라상태', '냉방온도',\n",
        "       '난방온도', '기준온도', '난방부하', '냉방부하', '총추정광량', '백색광추정광량', '적색광추정광량',\n",
        "       '청색광추정광량']\n",
        "\n",
        "  return df\n",
        "  '''"
      ],
      "metadata": {
        "id": "vM3UO190yf-l",
        "colab": {
          "base_uri": "https://localhost:8080/",
          "height": 89
        },
        "outputId": "2c50b1f9-cb09-4dc2-a971-f286c996a135"
      },
      "execution_count": null,
      "outputs": [
        {
          "output_type": "execute_result",
          "data": {
            "text/plain": [
              "\"\\nfrom datetime import datetime\\n\\ndef today(df):\\n  df = df.set_index('시간')\\n  df.index = pd.to_datetime(df.index)\\n  df = df.fillna(df.interpolate()) # 데이터 앞 뒤 평균으로 보간 \\n  df = df.resample(rule='D').mean()\\n  df.columns=['내부온도관측치', '내부습도관측치', 'CO2관측치', 'EC관측치', '외부온도관측치', '외부습도관측치', '펌프상태',\\n       '펌프작동남은시간', '펌프최근분무량', '펌프일간누적분무량', '냉방상태', '냉방작동남은시간', '난방상태',\\n       '난방작동남은시간', '내부유동팬상태', '내부유동팬작동남은시간', '외부환기팬상태', '외부환기팬작동남은시간',\\n       '화이트 LED상태', '화이트 LED작동남은시간', '화이트 LED동작강도', '레드 LED상태', '레드 LED작동남은시간',\\n       '레드 LED동작강도', '블루 LED상태', '블루 LED작동남은시간', '블루 LED동작강도', '카메라상태', '냉방온도',\\n       '난방온도', '기준온도', '난방부하', '냉방부하', '총추정광량', '백색광추정광량', '적색광추정광량',\\n       '청색광추정광량']\\n\\n  return df\\n  \""
            ],
            "application/vnd.google.colaboratory.intrinsic+json": {
              "type": "string"
            }
          },
          "metadata": {},
          "execution_count": 2
        }
      ]
    },
    {
      "cell_type": "code",
      "source": [
        "# train_input 데이터 불러오기\n",
        "'''\n",
        "for i in range(1, 58+1):\n",
        "  i = str(i).zfill(2)\n",
        "  df = pd.read_csv(f\"/content/train_input/CASE_{i}.csv\")\n",
        "  globals()[\"df{}\".format(i)] = today(df)\n",
        "  '''"
      ],
      "metadata": {
        "id": "v2gAHhJgzXTc",
        "colab": {
          "base_uri": "https://localhost:8080/",
          "height": 36
        },
        "outputId": "58b0a777-45d2-4028-9617-1c1abf86410a"
      },
      "execution_count": null,
      "outputs": [
        {
          "output_type": "execute_result",
          "data": {
            "text/plain": [
              "'\\nfor i in range(1, 58+1):\\n  i = str(i).zfill(2)\\n  df = pd.read_csv(f\"/content/train_input/CASE_{i}.csv\")\\n  globals()[\"df{}\".format(i)] = today(df)\\n  '"
            ],
            "application/vnd.google.colaboratory.intrinsic+json": {
              "type": "string"
            }
          },
          "metadata": {},
          "execution_count": 3
        }
      ]
    },
    {
      "cell_type": "code",
      "source": [
        "'''\n",
        "a = list()\n",
        "for i in range(1, 58+1):\n",
        "  i = str(i).zfill(2)\n",
        "  b = 'df'+i\n",
        "  a.append(b)\n",
        "  '''"
      ],
      "metadata": {
        "id": "nnznbJIazDLO",
        "colab": {
          "base_uri": "https://localhost:8080/",
          "height": 36
        },
        "outputId": "86427631-e5f3-4196-fcc6-3f3ba21a1ab8"
      },
      "execution_count": null,
      "outputs": [
        {
          "output_type": "execute_result",
          "data": {
            "text/plain": [
              "\"\\na = list()\\nfor i in range(1, 58+1):\\n  i = str(i).zfill(2)\\n  b = 'df'+i\\n  a.append(b)\\n  \""
            ],
            "application/vnd.google.colaboratory.intrinsic+json": {
              "type": "string"
            }
          },
          "metadata": {},
          "execution_count": 4
        }
      ]
    },
    {
      "cell_type": "code",
      "source": [
        "'''\n",
        "train_input_list = [df01,\n",
        " df02,\n",
        " df03,\n",
        " df04,\n",
        " df05,\n",
        " df06,\n",
        " df07,\n",
        " df08,\n",
        " df09,\n",
        " df10,\n",
        " df11,\n",
        " df12,\n",
        " df13,\n",
        " df14,\n",
        " df15,\n",
        " df16,\n",
        " df17,\n",
        " df18,\n",
        " df19,\n",
        " df20,\n",
        " df21,\n",
        " df22,\n",
        " df23,\n",
        " df24,\n",
        " df25,\n",
        " df26,\n",
        " df27,\n",
        " df28,\n",
        " df29,\n",
        " df30,\n",
        " df31,\n",
        " df32,\n",
        " df33,\n",
        " df34,\n",
        " df35,\n",
        " df36,\n",
        " df37,\n",
        " df38,\n",
        " df39,\n",
        " df40,\n",
        " df41,\n",
        " df42,\n",
        " df43,\n",
        " df44,\n",
        " df45,\n",
        " df46,\n",
        " df47,\n",
        " df48,\n",
        " df49,\n",
        " df50,\n",
        " df51,\n",
        " df52,\n",
        " df53,\n",
        " df54,\n",
        " df55,\n",
        " df56,\n",
        " df57,\n",
        " df58]\n",
        " '''"
      ],
      "metadata": {
        "id": "_d4Yh7ygMvbX",
        "colab": {
          "base_uri": "https://localhost:8080/",
          "height": 54
        },
        "outputId": "903b8534-b1f7-4af8-8d94-a48b4c8d57c6"
      },
      "execution_count": null,
      "outputs": [
        {
          "output_type": "execute_result",
          "data": {
            "text/plain": [
              "'\\ntrain_input_list = [df01,\\n df02,\\n df03,\\n df04,\\n df05,\\n df06,\\n df07,\\n df08,\\n df09,\\n df10,\\n df11,\\n df12,\\n df13,\\n df14,\\n df15,\\n df16,\\n df17,\\n df18,\\n df19,\\n df20,\\n df21,\\n df22,\\n df23,\\n df24,\\n df25,\\n df26,\\n df27,\\n df28,\\n df29,\\n df30,\\n df31,\\n df32,\\n df33,\\n df34,\\n df35,\\n df36,\\n df37,\\n df38,\\n df39,\\n df40,\\n df41,\\n df42,\\n df43,\\n df44,\\n df45,\\n df46,\\n df47,\\n df48,\\n df49,\\n df50,\\n df51,\\n df52,\\n df53,\\n df54,\\n df55,\\n df56,\\n df57,\\n df58]\\n '"
            ],
            "application/vnd.google.colaboratory.intrinsic+json": {
              "type": "string"
            }
          },
          "metadata": {},
          "execution_count": 5
        }
      ]
    },
    {
      "cell_type": "code",
      "source": [
        "# train_input 데이터 합치기\n",
        "#train_input = pd.concat(train_input_list)"
      ],
      "metadata": {
        "id": "Z9Cps40rEIwy"
      },
      "execution_count": null,
      "outputs": []
    },
    {
      "cell_type": "code",
      "source": [
        "# 변화량 파악 어려운 맨 첫 행은 삭제\n",
        "#train_input.drop(train_input.index[0], inplace=True)"
      ],
      "metadata": {
        "id": "Otn70QmjgPsr"
      },
      "execution_count": null,
      "outputs": []
    },
    {
      "cell_type": "code",
      "source": [
        "# 특성 - 타겟 인덱스 맞추기\n",
        "'''\n",
        "train_miss = [28,57,84,113,142,171,200,229,276,318,358,391,424,469,514,558,583,625,653,679,705,\n",
        " 731,757,783,809,846,879,921,956,989,1028,1055,1083,1111,1139,1165,1209,1231,1268,1305,1327,1349,1350]\n",
        " '''"
      ],
      "metadata": {
        "id": "gEfke9clxIBS",
        "colab": {
          "base_uri": "https://localhost:8080/",
          "height": 36
        },
        "outputId": "cebb655b-fd2c-47a8-9a07-258fb424ae1c"
      },
      "execution_count": null,
      "outputs": [
        {
          "output_type": "execute_result",
          "data": {
            "text/plain": [
              "'\\ntrain_miss = [28,57,84,113,142,171,200,229,276,318,358,391,424,469,514,558,583,625,653,679,705,\\n 731,757,783,809,846,879,921,956,989,1028,1055,1083,1111,1139,1165,1209,1231,1268,1305,1327,1349,1350]\\n '"
            ],
            "application/vnd.google.colaboratory.intrinsic+json": {
              "type": "string"
            }
          },
          "metadata": {},
          "execution_count": 8
        }
      ]
    },
    {
      "cell_type": "code",
      "source": [
        "#train_input.reset_index(inplace=True)"
      ],
      "metadata": {
        "id": "_ZzAbJ_V8M2s"
      },
      "execution_count": null,
      "outputs": []
    },
    {
      "cell_type": "code",
      "source": [
        "#train_input.drop(train_miss, inplace=True)"
      ],
      "metadata": {
        "id": "yLoRv-N98brV"
      },
      "execution_count": null,
      "outputs": []
    },
    {
      "cell_type": "code",
      "source": [
        "#train_input"
      ],
      "metadata": {
        "id": "E7NXOVMN0YEz"
      },
      "execution_count": null,
      "outputs": []
    },
    {
      "cell_type": "code",
      "source": [
        "# train_index = train_input.index"
      ],
      "metadata": {
        "id": "O_0_pY4uiqtU"
      },
      "execution_count": null,
      "outputs": []
    },
    {
      "cell_type": "code",
      "source": [
        "# target_index = train_target.index"
      ],
      "metadata": {
        "id": "CPSC1131jB1_"
      },
      "execution_count": null,
      "outputs": []
    },
    {
      "cell_type": "code",
      "source": [
        "'''for i in range(0, 1812):\n",
        "  if np.array(train_index)[i] == np.array(target_index)[i]:\n",
        "    pass\n",
        "  else:\n",
        "    print(np.array(train_index)[i], np.array(target_index)[i], i)\n",
        "'''"
      ],
      "metadata": {
        "colab": {
          "base_uri": "https://localhost:8080/",
          "height": 36
        },
        "id": "EQ5uqGqCjPTE",
        "outputId": "6ab7b1af-339f-4c62-e227-27c0c24abc4a"
      },
      "execution_count": null,
      "outputs": [
        {
          "output_type": "execute_result",
          "data": {
            "text/plain": [
              "'for i in range(0, 1812):\\n  if np.array(train_index)[i] == np.array(target_index)[i]:\\n    pass\\n  else:\\n    print(np.array(train_index)[i], np.array(target_index)[i], i)\\n'"
            ],
            "application/vnd.google.colaboratory.intrinsic+json": {
              "type": "string"
            }
          },
          "metadata": {},
          "execution_count": 14
        }
      ]
    },
    {
      "cell_type": "code",
      "source": [
        "# 드라이브에 저장\n",
        "#train_input.to_csv('/content/drive/MyDrive/Colab Notebooks/project02_train_input.csv')"
      ],
      "metadata": {
        "id": "Xik8vBqmEh7L"
      },
      "execution_count": null,
      "outputs": []
    },
    {
      "cell_type": "code",
      "source": [
        "#train_target 데이터 합치기\n",
        "'''def today_target(df):\n",
        "  df = df.set_index('시간')\n",
        "  df.index = pd.to_datetime(df.index)\n",
        "  return df'''"
      ],
      "metadata": {
        "id": "OrUOFd83TOdF",
        "colab": {
          "base_uri": "https://localhost:8080/",
          "height": 36
        },
        "outputId": "9f7d2ab2-e866-4855-9d47-85006ca7cc99"
      },
      "execution_count": null,
      "outputs": [
        {
          "output_type": "execute_result",
          "data": {
            "text/plain": [
              "\"def today_target(df):\\n  df = df.set_index('시간')\\n  df.index = pd.to_datetime(df.index)\\n  return df\""
            ],
            "application/vnd.google.colaboratory.intrinsic+json": {
              "type": "string"
            }
          },
          "metadata": {},
          "execution_count": 16
        }
      ]
    },
    {
      "cell_type": "code",
      "source": [
        "'''for i in range(1, 58+1):\n",
        "  i = str(i).zfill(2)\n",
        "  df = pd.read_csv(f\"/content/train_target/CASE_{i}.csv\")\n",
        "  globals()[\"df_{}\".format(i)] = today_target(df)'''"
      ],
      "metadata": {
        "id": "Yb8o2wLGS0hz",
        "colab": {
          "base_uri": "https://localhost:8080/",
          "height": 36
        },
        "outputId": "cae83ef2-3933-4e7d-f7bb-aed8028a44a3"
      },
      "execution_count": null,
      "outputs": [
        {
          "output_type": "execute_result",
          "data": {
            "text/plain": [
              "'for i in range(1, 58+1):\\n  i = str(i).zfill(2)\\n  df = pd.read_csv(f\"/content/train_target/CASE_{i}.csv\")\\n  globals()[\"df_{}\".format(i)] = today_target(df)'"
            ],
            "application/vnd.google.colaboratory.intrinsic+json": {
              "type": "string"
            }
          },
          "metadata": {},
          "execution_count": 17
        }
      ]
    },
    {
      "cell_type": "code",
      "source": [
        "'''train_target_list = [df_01,\n",
        " df_02,\n",
        " df_03,\n",
        " df_04,\n",
        " df_05,\n",
        " df_06,\n",
        " df_07,\n",
        " df_08,\n",
        " df_09,\n",
        " df_10,\n",
        " df_11,\n",
        " df_12,\n",
        " df_13,\n",
        " df_14,\n",
        " df_15,\n",
        " df_16,\n",
        " df_17,\n",
        " df_18,\n",
        " df_19,\n",
        " df_20,\n",
        " df_21,\n",
        " df_22,\n",
        " df_23,\n",
        " df_24,\n",
        " df_25,\n",
        " df_26,\n",
        " df_27,\n",
        " df_28,\n",
        " df_29,\n",
        " df_30,\n",
        " df_31,\n",
        " df_32,\n",
        " df_33,\n",
        " df_34,\n",
        " df_35,\n",
        " df_36,\n",
        " df_37,\n",
        " df_38,\n",
        " df_39,\n",
        " df_40,\n",
        " df_41,\n",
        " df_42,\n",
        " df_43,\n",
        " df_44,\n",
        " df_45,\n",
        " df_46,\n",
        " df_47,\n",
        " df_48,\n",
        " df_49,\n",
        " df_50,\n",
        " df_51,\n",
        " df_52,\n",
        " df_53,\n",
        " df_54,\n",
        " df_55,\n",
        " df_56,\n",
        " df_57,\n",
        " df_58]'''"
      ],
      "metadata": {
        "id": "go79DVF0TUyw",
        "colab": {
          "base_uri": "https://localhost:8080/",
          "height": 72
        },
        "outputId": "52e71d0d-2cbc-45ab-c0e5-9454b884685f"
      },
      "execution_count": null,
      "outputs": [
        {
          "output_type": "execute_result",
          "data": {
            "text/plain": [
              "'train_target_list = [df_01,\\n df_02,\\n df_03,\\n df_04,\\n df_05,\\n df_06,\\n df_07,\\n df_08,\\n df_09,\\n df_10,\\n df_11,\\n df_12,\\n df_13,\\n df_14,\\n df_15,\\n df_16,\\n df_17,\\n df_18,\\n df_19,\\n df_20,\\n df_21,\\n df_22,\\n df_23,\\n df_24,\\n df_25,\\n df_26,\\n df_27,\\n df_28,\\n df_29,\\n df_30,\\n df_31,\\n df_32,\\n df_33,\\n df_34,\\n df_35,\\n df_36,\\n df_37,\\n df_38,\\n df_39,\\n df_40,\\n df_41,\\n df_42,\\n df_43,\\n df_44,\\n df_45,\\n df_46,\\n df_47,\\n df_48,\\n df_49,\\n df_50,\\n df_51,\\n df_52,\\n df_53,\\n df_54,\\n df_55,\\n df_56,\\n df_57,\\n df_58]'"
            ],
            "application/vnd.google.colaboratory.intrinsic+json": {
              "type": "string"
            }
          },
          "metadata": {},
          "execution_count": 18
        }
      ]
    },
    {
      "cell_type": "code",
      "source": [
        "# train_target = pd.concat(train_target_list)"
      ],
      "metadata": {
        "id": "0s2T5J1JTvoL"
      },
      "execution_count": null,
      "outputs": []
    },
    {
      "cell_type": "code",
      "source": [
        "# train_target.drop(train_target.index[-1], inplace=True)"
      ],
      "metadata": {
        "id": "uffZVHLKgykH"
      },
      "execution_count": null,
      "outputs": []
    },
    {
      "cell_type": "code",
      "source": [
        "# 특성 - 타겟 인덱스 맞추기\n",
        "'''target_miss = [28,57,84,113,142,171,200,229,276,318,358,391,424,469,514,558,583,625,653,679,705,\n",
        " 731,757,783,809,846,879,921,956,989,1028,1055,1083,1111,1139,1165,1209,1231,1268,1305,1327,1349]'''"
      ],
      "metadata": {
        "id": "BI5Za0pRx0tr",
        "colab": {
          "base_uri": "https://localhost:8080/",
          "height": 36
        },
        "outputId": "a4de3d75-d96a-420d-ef82-d1a260bf434b"
      },
      "execution_count": null,
      "outputs": [
        {
          "output_type": "execute_result",
          "data": {
            "text/plain": [
              "'target_miss = [28,57,84,113,142,171,200,229,276,318,358,391,424,469,514,558,583,625,653,679,705,\\n 731,757,783,809,846,879,921,956,989,1028,1055,1083,1111,1139,1165,1209,1231,1268,1305,1327,1349]'"
            ],
            "application/vnd.google.colaboratory.intrinsic+json": {
              "type": "string"
            }
          },
          "metadata": {},
          "execution_count": 21
        }
      ]
    },
    {
      "cell_type": "code",
      "source": [
        "# train_target.reset_index(inplace=True)"
      ],
      "metadata": {
        "id": "rJ8NyHfo8mh4"
      },
      "execution_count": null,
      "outputs": []
    },
    {
      "cell_type": "code",
      "source": [
        "# train_target.drop(target_miss, inplace=True)"
      ],
      "metadata": {
        "id": "hJAWLDki8s5J"
      },
      "execution_count": null,
      "outputs": []
    },
    {
      "cell_type": "code",
      "source": [
        "# train_target.drop('시간', axis=1, inplace=True)"
      ],
      "metadata": {
        "id": "CkoU-A4tUAOD"
      },
      "execution_count": null,
      "outputs": []
    },
    {
      "cell_type": "code",
      "source": [
        "# train_target.to_csv('/content/drive/MyDrive/Colab Notebooks/project02_train_target.csv')"
      ],
      "metadata": {
        "id": "J155TWqcUGT8"
      },
      "execution_count": null,
      "outputs": []
    },
    {
      "cell_type": "code",
      "source": [
        "## train/test 나눠보기\n",
        "df_train = pd.read_csv(\"/content/drive/MyDrive/Colab Notebooks/project02_train_input.csv\", index_col=0)"
      ],
      "metadata": {
        "id": "CTZD9dmFvPoh"
      },
      "execution_count": null,
      "outputs": []
    },
    {
      "cell_type": "code",
      "source": [
        "df_train"
      ],
      "metadata": {
        "colab": {
          "base_uri": "https://localhost:8080/",
          "height": 424
        },
        "id": "WCpBuacuzogI",
        "outputId": "2436bdd5-38fe-463a-e086-59ba6655d3e1"
      },
      "execution_count": null,
      "outputs": [
        {
          "output_type": "execute_result",
          "data": {
            "text/plain": [
              "              시간    내부온도관측치    내부습도관측치      CO2관측치     EC관측치    외부온도관측치  \\\n",
              "0     2021-02-18  21.982326  32.574201  364.996528  0.907814  17.704792   \n",
              "1     2021-02-19  21.946354  32.688507  355.564931  0.906639  18.154305   \n",
              "2     2021-02-20  22.961979  26.747639  353.087500  0.909431  20.028958   \n",
              "3     2021-02-21  23.568576  41.969445  383.118056  0.910634  22.053889   \n",
              "4     2021-02-22  23.597535  61.533403  386.332292  0.910660  22.442500   \n",
              "...          ...        ...        ...         ...       ...        ...   \n",
              "1808  2022-06-10  24.809583  64.427292  466.219097  0.011782  25.200001   \n",
              "1809  2022-06-11  24.573646  62.372172  496.510764  0.010869  25.200001   \n",
              "1810  2022-06-12  24.430587  61.645922  432.795139  0.009891  25.200001   \n",
              "1811  2022-06-13  24.339722  62.061215  502.240278  0.009580  25.200001   \n",
              "1812  2022-06-14  23.977986  58.065632  421.691667  0.009190  25.200001   \n",
              "\n",
              "        외부습도관측치      펌프상태  펌프작동남은시간     펌프최근분무량  ...     카메라상태       냉방온도  \\\n",
              "0     11.069931  2.792708  1.646181  723.503986  ...  0.837500  22.395833   \n",
              "1     14.419236  2.233333  1.276389  710.522104  ...  0.837500  22.395836   \n",
              "2     20.384549  2.373958  1.461806  762.003958  ...  0.697917  22.395838   \n",
              "3     22.203194  2.372917  1.382639  718.682319  ...  0.697917  22.395820   \n",
              "4     26.325764  2.373958  1.418056  727.026604  ...  0.697917  22.395555   \n",
              "...         ...       ...       ...         ...  ...       ...        ...   \n",
              "1808  41.500000  2.652083  1.145833  769.000000  ...  0.139583  20.291637   \n",
              "1809  41.500000  2.791667  1.209722  769.000000  ...  0.139583  20.291689   \n",
              "1810  41.500000  2.372917  1.143056  769.000000  ...  0.139583  20.291813   \n",
              "1811  41.500000  2.233333  0.992361  769.000000  ...  0.139583  20.291721   \n",
              "1812  41.500000  3.070833  1.238889  769.000000  ...  0.139583  20.291705   \n",
              "\n",
              "           난방온도       기준온도      난방부하       냉방부하       총추정광량     백색광추정광량  \\\n",
              "0     20.395833  21.395833  0.000347   0.722436    0.000000    0.000000   \n",
              "1     20.395836  21.395836  0.005208   1.096539    0.000000    0.000000   \n",
              "2     20.395838  21.395838  0.000000   3.289385    0.000000    0.000000   \n",
              "3     20.395820  21.395820  0.000000   5.867981    0.000000    0.000000   \n",
              "4     20.395555  21.395555  0.000000   5.997571    0.000000    0.000000   \n",
              "...         ...        ...       ...        ...         ...         ...   \n",
              "1808  17.416654  18.854145  0.158571  36.967261  179.526855  146.018959   \n",
              "1809  17.416702  18.854195  0.957158  35.950935  179.523769  146.042594   \n",
              "1810  17.416803  18.854308  0.899067  35.116692  179.494003  145.995323   \n",
              "1811  17.416742  18.854231  0.585540  34.609352  179.470777  145.969539   \n",
              "1812  17.416657  18.854181  0.920164  32.799156  179.517310  146.000695   \n",
              "\n",
              "        적색광추정광량    청색광추정광량  \n",
              "0      0.000000   0.000000  \n",
              "1      0.000000   0.000000  \n",
              "2      0.000000   0.000000  \n",
              "3      0.000000   0.000000  \n",
              "4      0.000000   0.000000  \n",
              "...         ...        ...  \n",
              "1808  12.375376  21.132520  \n",
              "1809  12.363884  21.117290  \n",
              "1810  12.375950  21.122730  \n",
              "1811  12.362735  21.138503  \n",
              "1812  12.396061  21.120554  \n",
              "\n",
              "[1770 rows x 38 columns]"
            ],
            "text/html": [
              "\n",
              "  <div id=\"df-ab9310e8-d683-4fa8-8fa3-0d37ce868b43\">\n",
              "    <div class=\"colab-df-container\">\n",
              "      <div>\n",
              "<style scoped>\n",
              "    .dataframe tbody tr th:only-of-type {\n",
              "        vertical-align: middle;\n",
              "    }\n",
              "\n",
              "    .dataframe tbody tr th {\n",
              "        vertical-align: top;\n",
              "    }\n",
              "\n",
              "    .dataframe thead th {\n",
              "        text-align: right;\n",
              "    }\n",
              "</style>\n",
              "<table border=\"1\" class=\"dataframe\">\n",
              "  <thead>\n",
              "    <tr style=\"text-align: right;\">\n",
              "      <th></th>\n",
              "      <th>시간</th>\n",
              "      <th>내부온도관측치</th>\n",
              "      <th>내부습도관측치</th>\n",
              "      <th>CO2관측치</th>\n",
              "      <th>EC관측치</th>\n",
              "      <th>외부온도관측치</th>\n",
              "      <th>외부습도관측치</th>\n",
              "      <th>펌프상태</th>\n",
              "      <th>펌프작동남은시간</th>\n",
              "      <th>펌프최근분무량</th>\n",
              "      <th>...</th>\n",
              "      <th>카메라상태</th>\n",
              "      <th>냉방온도</th>\n",
              "      <th>난방온도</th>\n",
              "      <th>기준온도</th>\n",
              "      <th>난방부하</th>\n",
              "      <th>냉방부하</th>\n",
              "      <th>총추정광량</th>\n",
              "      <th>백색광추정광량</th>\n",
              "      <th>적색광추정광량</th>\n",
              "      <th>청색광추정광량</th>\n",
              "    </tr>\n",
              "  </thead>\n",
              "  <tbody>\n",
              "    <tr>\n",
              "      <th>0</th>\n",
              "      <td>2021-02-18</td>\n",
              "      <td>21.982326</td>\n",
              "      <td>32.574201</td>\n",
              "      <td>364.996528</td>\n",
              "      <td>0.907814</td>\n",
              "      <td>17.704792</td>\n",
              "      <td>11.069931</td>\n",
              "      <td>2.792708</td>\n",
              "      <td>1.646181</td>\n",
              "      <td>723.503986</td>\n",
              "      <td>...</td>\n",
              "      <td>0.837500</td>\n",
              "      <td>22.395833</td>\n",
              "      <td>20.395833</td>\n",
              "      <td>21.395833</td>\n",
              "      <td>0.000347</td>\n",
              "      <td>0.722436</td>\n",
              "      <td>0.000000</td>\n",
              "      <td>0.000000</td>\n",
              "      <td>0.000000</td>\n",
              "      <td>0.000000</td>\n",
              "    </tr>\n",
              "    <tr>\n",
              "      <th>1</th>\n",
              "      <td>2021-02-19</td>\n",
              "      <td>21.946354</td>\n",
              "      <td>32.688507</td>\n",
              "      <td>355.564931</td>\n",
              "      <td>0.906639</td>\n",
              "      <td>18.154305</td>\n",
              "      <td>14.419236</td>\n",
              "      <td>2.233333</td>\n",
              "      <td>1.276389</td>\n",
              "      <td>710.522104</td>\n",
              "      <td>...</td>\n",
              "      <td>0.837500</td>\n",
              "      <td>22.395836</td>\n",
              "      <td>20.395836</td>\n",
              "      <td>21.395836</td>\n",
              "      <td>0.005208</td>\n",
              "      <td>1.096539</td>\n",
              "      <td>0.000000</td>\n",
              "      <td>0.000000</td>\n",
              "      <td>0.000000</td>\n",
              "      <td>0.000000</td>\n",
              "    </tr>\n",
              "    <tr>\n",
              "      <th>2</th>\n",
              "      <td>2021-02-20</td>\n",
              "      <td>22.961979</td>\n",
              "      <td>26.747639</td>\n",
              "      <td>353.087500</td>\n",
              "      <td>0.909431</td>\n",
              "      <td>20.028958</td>\n",
              "      <td>20.384549</td>\n",
              "      <td>2.373958</td>\n",
              "      <td>1.461806</td>\n",
              "      <td>762.003958</td>\n",
              "      <td>...</td>\n",
              "      <td>0.697917</td>\n",
              "      <td>22.395838</td>\n",
              "      <td>20.395838</td>\n",
              "      <td>21.395838</td>\n",
              "      <td>0.000000</td>\n",
              "      <td>3.289385</td>\n",
              "      <td>0.000000</td>\n",
              "      <td>0.000000</td>\n",
              "      <td>0.000000</td>\n",
              "      <td>0.000000</td>\n",
              "    </tr>\n",
              "    <tr>\n",
              "      <th>3</th>\n",
              "      <td>2021-02-21</td>\n",
              "      <td>23.568576</td>\n",
              "      <td>41.969445</td>\n",
              "      <td>383.118056</td>\n",
              "      <td>0.910634</td>\n",
              "      <td>22.053889</td>\n",
              "      <td>22.203194</td>\n",
              "      <td>2.372917</td>\n",
              "      <td>1.382639</td>\n",
              "      <td>718.682319</td>\n",
              "      <td>...</td>\n",
              "      <td>0.697917</td>\n",
              "      <td>22.395820</td>\n",
              "      <td>20.395820</td>\n",
              "      <td>21.395820</td>\n",
              "      <td>0.000000</td>\n",
              "      <td>5.867981</td>\n",
              "      <td>0.000000</td>\n",
              "      <td>0.000000</td>\n",
              "      <td>0.000000</td>\n",
              "      <td>0.000000</td>\n",
              "    </tr>\n",
              "    <tr>\n",
              "      <th>4</th>\n",
              "      <td>2021-02-22</td>\n",
              "      <td>23.597535</td>\n",
              "      <td>61.533403</td>\n",
              "      <td>386.332292</td>\n",
              "      <td>0.910660</td>\n",
              "      <td>22.442500</td>\n",
              "      <td>26.325764</td>\n",
              "      <td>2.373958</td>\n",
              "      <td>1.418056</td>\n",
              "      <td>727.026604</td>\n",
              "      <td>...</td>\n",
              "      <td>0.697917</td>\n",
              "      <td>22.395555</td>\n",
              "      <td>20.395555</td>\n",
              "      <td>21.395555</td>\n",
              "      <td>0.000000</td>\n",
              "      <td>5.997571</td>\n",
              "      <td>0.000000</td>\n",
              "      <td>0.000000</td>\n",
              "      <td>0.000000</td>\n",
              "      <td>0.000000</td>\n",
              "    </tr>\n",
              "    <tr>\n",
              "      <th>...</th>\n",
              "      <td>...</td>\n",
              "      <td>...</td>\n",
              "      <td>...</td>\n",
              "      <td>...</td>\n",
              "      <td>...</td>\n",
              "      <td>...</td>\n",
              "      <td>...</td>\n",
              "      <td>...</td>\n",
              "      <td>...</td>\n",
              "      <td>...</td>\n",
              "      <td>...</td>\n",
              "      <td>...</td>\n",
              "      <td>...</td>\n",
              "      <td>...</td>\n",
              "      <td>...</td>\n",
              "      <td>...</td>\n",
              "      <td>...</td>\n",
              "      <td>...</td>\n",
              "      <td>...</td>\n",
              "      <td>...</td>\n",
              "      <td>...</td>\n",
              "    </tr>\n",
              "    <tr>\n",
              "      <th>1808</th>\n",
              "      <td>2022-06-10</td>\n",
              "      <td>24.809583</td>\n",
              "      <td>64.427292</td>\n",
              "      <td>466.219097</td>\n",
              "      <td>0.011782</td>\n",
              "      <td>25.200001</td>\n",
              "      <td>41.500000</td>\n",
              "      <td>2.652083</td>\n",
              "      <td>1.145833</td>\n",
              "      <td>769.000000</td>\n",
              "      <td>...</td>\n",
              "      <td>0.139583</td>\n",
              "      <td>20.291637</td>\n",
              "      <td>17.416654</td>\n",
              "      <td>18.854145</td>\n",
              "      <td>0.158571</td>\n",
              "      <td>36.967261</td>\n",
              "      <td>179.526855</td>\n",
              "      <td>146.018959</td>\n",
              "      <td>12.375376</td>\n",
              "      <td>21.132520</td>\n",
              "    </tr>\n",
              "    <tr>\n",
              "      <th>1809</th>\n",
              "      <td>2022-06-11</td>\n",
              "      <td>24.573646</td>\n",
              "      <td>62.372172</td>\n",
              "      <td>496.510764</td>\n",
              "      <td>0.010869</td>\n",
              "      <td>25.200001</td>\n",
              "      <td>41.500000</td>\n",
              "      <td>2.791667</td>\n",
              "      <td>1.209722</td>\n",
              "      <td>769.000000</td>\n",
              "      <td>...</td>\n",
              "      <td>0.139583</td>\n",
              "      <td>20.291689</td>\n",
              "      <td>17.416702</td>\n",
              "      <td>18.854195</td>\n",
              "      <td>0.957158</td>\n",
              "      <td>35.950935</td>\n",
              "      <td>179.523769</td>\n",
              "      <td>146.042594</td>\n",
              "      <td>12.363884</td>\n",
              "      <td>21.117290</td>\n",
              "    </tr>\n",
              "    <tr>\n",
              "      <th>1810</th>\n",
              "      <td>2022-06-12</td>\n",
              "      <td>24.430587</td>\n",
              "      <td>61.645922</td>\n",
              "      <td>432.795139</td>\n",
              "      <td>0.009891</td>\n",
              "      <td>25.200001</td>\n",
              "      <td>41.500000</td>\n",
              "      <td>2.372917</td>\n",
              "      <td>1.143056</td>\n",
              "      <td>769.000000</td>\n",
              "      <td>...</td>\n",
              "      <td>0.139583</td>\n",
              "      <td>20.291813</td>\n",
              "      <td>17.416803</td>\n",
              "      <td>18.854308</td>\n",
              "      <td>0.899067</td>\n",
              "      <td>35.116692</td>\n",
              "      <td>179.494003</td>\n",
              "      <td>145.995323</td>\n",
              "      <td>12.375950</td>\n",
              "      <td>21.122730</td>\n",
              "    </tr>\n",
              "    <tr>\n",
              "      <th>1811</th>\n",
              "      <td>2022-06-13</td>\n",
              "      <td>24.339722</td>\n",
              "      <td>62.061215</td>\n",
              "      <td>502.240278</td>\n",
              "      <td>0.009580</td>\n",
              "      <td>25.200001</td>\n",
              "      <td>41.500000</td>\n",
              "      <td>2.233333</td>\n",
              "      <td>0.992361</td>\n",
              "      <td>769.000000</td>\n",
              "      <td>...</td>\n",
              "      <td>0.139583</td>\n",
              "      <td>20.291721</td>\n",
              "      <td>17.416742</td>\n",
              "      <td>18.854231</td>\n",
              "      <td>0.585540</td>\n",
              "      <td>34.609352</td>\n",
              "      <td>179.470777</td>\n",
              "      <td>145.969539</td>\n",
              "      <td>12.362735</td>\n",
              "      <td>21.138503</td>\n",
              "    </tr>\n",
              "    <tr>\n",
              "      <th>1812</th>\n",
              "      <td>2022-06-14</td>\n",
              "      <td>23.977986</td>\n",
              "      <td>58.065632</td>\n",
              "      <td>421.691667</td>\n",
              "      <td>0.009190</td>\n",
              "      <td>25.200001</td>\n",
              "      <td>41.500000</td>\n",
              "      <td>3.070833</td>\n",
              "      <td>1.238889</td>\n",
              "      <td>769.000000</td>\n",
              "      <td>...</td>\n",
              "      <td>0.139583</td>\n",
              "      <td>20.291705</td>\n",
              "      <td>17.416657</td>\n",
              "      <td>18.854181</td>\n",
              "      <td>0.920164</td>\n",
              "      <td>32.799156</td>\n",
              "      <td>179.517310</td>\n",
              "      <td>146.000695</td>\n",
              "      <td>12.396061</td>\n",
              "      <td>21.120554</td>\n",
              "    </tr>\n",
              "  </tbody>\n",
              "</table>\n",
              "<p>1770 rows × 38 columns</p>\n",
              "</div>\n",
              "      <button class=\"colab-df-convert\" onclick=\"convertToInteractive('df-ab9310e8-d683-4fa8-8fa3-0d37ce868b43')\"\n",
              "              title=\"Convert this dataframe to an interactive table.\"\n",
              "              style=\"display:none;\">\n",
              "        \n",
              "  <svg xmlns=\"http://www.w3.org/2000/svg\" height=\"24px\"viewBox=\"0 0 24 24\"\n",
              "       width=\"24px\">\n",
              "    <path d=\"M0 0h24v24H0V0z\" fill=\"none\"/>\n",
              "    <path d=\"M18.56 5.44l.94 2.06.94-2.06 2.06-.94-2.06-.94-.94-2.06-.94 2.06-2.06.94zm-11 1L8.5 8.5l.94-2.06 2.06-.94-2.06-.94L8.5 2.5l-.94 2.06-2.06.94zm10 10l.94 2.06.94-2.06 2.06-.94-2.06-.94-.94-2.06-.94 2.06-2.06.94z\"/><path d=\"M17.41 7.96l-1.37-1.37c-.4-.4-.92-.59-1.43-.59-.52 0-1.04.2-1.43.59L10.3 9.45l-7.72 7.72c-.78.78-.78 2.05 0 2.83L4 21.41c.39.39.9.59 1.41.59.51 0 1.02-.2 1.41-.59l7.78-7.78 2.81-2.81c.8-.78.8-2.07 0-2.86zM5.41 20L4 18.59l7.72-7.72 1.47 1.35L5.41 20z\"/>\n",
              "  </svg>\n",
              "      </button>\n",
              "      \n",
              "  <style>\n",
              "    .colab-df-container {\n",
              "      display:flex;\n",
              "      flex-wrap:wrap;\n",
              "      gap: 12px;\n",
              "    }\n",
              "\n",
              "    .colab-df-convert {\n",
              "      background-color: #E8F0FE;\n",
              "      border: none;\n",
              "      border-radius: 50%;\n",
              "      cursor: pointer;\n",
              "      display: none;\n",
              "      fill: #1967D2;\n",
              "      height: 32px;\n",
              "      padding: 0 0 0 0;\n",
              "      width: 32px;\n",
              "    }\n",
              "\n",
              "    .colab-df-convert:hover {\n",
              "      background-color: #E2EBFA;\n",
              "      box-shadow: 0px 1px 2px rgba(60, 64, 67, 0.3), 0px 1px 3px 1px rgba(60, 64, 67, 0.15);\n",
              "      fill: #174EA6;\n",
              "    }\n",
              "\n",
              "    [theme=dark] .colab-df-convert {\n",
              "      background-color: #3B4455;\n",
              "      fill: #D2E3FC;\n",
              "    }\n",
              "\n",
              "    [theme=dark] .colab-df-convert:hover {\n",
              "      background-color: #434B5C;\n",
              "      box-shadow: 0px 1px 3px 1px rgba(0, 0, 0, 0.15);\n",
              "      filter: drop-shadow(0px 1px 2px rgba(0, 0, 0, 0.3));\n",
              "      fill: #FFFFFF;\n",
              "    }\n",
              "  </style>\n",
              "\n",
              "      <script>\n",
              "        const buttonEl =\n",
              "          document.querySelector('#df-ab9310e8-d683-4fa8-8fa3-0d37ce868b43 button.colab-df-convert');\n",
              "        buttonEl.style.display =\n",
              "          google.colab.kernel.accessAllowed ? 'block' : 'none';\n",
              "\n",
              "        async function convertToInteractive(key) {\n",
              "          const element = document.querySelector('#df-ab9310e8-d683-4fa8-8fa3-0d37ce868b43');\n",
              "          const dataTable =\n",
              "            await google.colab.kernel.invokeFunction('convertToInteractive',\n",
              "                                                     [key], {});\n",
              "          if (!dataTable) return;\n",
              "\n",
              "          const docLinkHtml = 'Like what you see? Visit the ' +\n",
              "            '<a target=\"_blank\" href=https://colab.research.google.com/notebooks/data_table.ipynb>data table notebook</a>'\n",
              "            + ' to learn more about interactive tables.';\n",
              "          element.innerHTML = '';\n",
              "          dataTable['output_type'] = 'display_data';\n",
              "          await google.colab.output.renderOutput(dataTable, element);\n",
              "          const docLink = document.createElement('div');\n",
              "          docLink.innerHTML = docLinkHtml;\n",
              "          element.appendChild(docLink);\n",
              "        }\n",
              "      </script>\n",
              "    </div>\n",
              "  </div>\n",
              "  "
            ]
          },
          "metadata": {},
          "execution_count": 27
        }
      ]
    },
    {
      "cell_type": "code",
      "source": [
        "df_target = pd.read_csv(\"/content/drive/MyDrive/Colab Notebooks/project02_train_target.csv\", index_col=0)"
      ],
      "metadata": {
        "id": "zRSCTFd5xkaZ"
      },
      "execution_count": null,
      "outputs": []
    },
    {
      "cell_type": "code",
      "source": [
        "df_target"
      ],
      "metadata": {
        "colab": {
          "base_uri": "https://localhost:8080/",
          "height": 424
        },
        "id": "llQq0eDMz75y",
        "outputId": "7792c25f-513f-4328-f585-ec3ec07857d0"
      },
      "execution_count": null,
      "outputs": [
        {
          "output_type": "execute_result",
          "data": {
            "text/plain": [
              "         rate\n",
              "0     0.50000\n",
              "1     0.66667\n",
              "2     0.60000\n",
              "3    -0.12500\n",
              "4     1.42857\n",
              "...       ...\n",
              "1807 -0.08958\n",
              "1808 -0.07888\n",
              "1809 -0.15838\n",
              "1810 -0.47374\n",
              "1811 -0.51767\n",
              "\n",
              "[1770 rows x 1 columns]"
            ],
            "text/html": [
              "\n",
              "  <div id=\"df-690d7cf8-a781-468c-9891-974deca0aaa4\">\n",
              "    <div class=\"colab-df-container\">\n",
              "      <div>\n",
              "<style scoped>\n",
              "    .dataframe tbody tr th:only-of-type {\n",
              "        vertical-align: middle;\n",
              "    }\n",
              "\n",
              "    .dataframe tbody tr th {\n",
              "        vertical-align: top;\n",
              "    }\n",
              "\n",
              "    .dataframe thead th {\n",
              "        text-align: right;\n",
              "    }\n",
              "</style>\n",
              "<table border=\"1\" class=\"dataframe\">\n",
              "  <thead>\n",
              "    <tr style=\"text-align: right;\">\n",
              "      <th></th>\n",
              "      <th>rate</th>\n",
              "    </tr>\n",
              "  </thead>\n",
              "  <tbody>\n",
              "    <tr>\n",
              "      <th>0</th>\n",
              "      <td>0.50000</td>\n",
              "    </tr>\n",
              "    <tr>\n",
              "      <th>1</th>\n",
              "      <td>0.66667</td>\n",
              "    </tr>\n",
              "    <tr>\n",
              "      <th>2</th>\n",
              "      <td>0.60000</td>\n",
              "    </tr>\n",
              "    <tr>\n",
              "      <th>3</th>\n",
              "      <td>-0.12500</td>\n",
              "    </tr>\n",
              "    <tr>\n",
              "      <th>4</th>\n",
              "      <td>1.42857</td>\n",
              "    </tr>\n",
              "    <tr>\n",
              "      <th>...</th>\n",
              "      <td>...</td>\n",
              "    </tr>\n",
              "    <tr>\n",
              "      <th>1807</th>\n",
              "      <td>-0.08958</td>\n",
              "    </tr>\n",
              "    <tr>\n",
              "      <th>1808</th>\n",
              "      <td>-0.07888</td>\n",
              "    </tr>\n",
              "    <tr>\n",
              "      <th>1809</th>\n",
              "      <td>-0.15838</td>\n",
              "    </tr>\n",
              "    <tr>\n",
              "      <th>1810</th>\n",
              "      <td>-0.47374</td>\n",
              "    </tr>\n",
              "    <tr>\n",
              "      <th>1811</th>\n",
              "      <td>-0.51767</td>\n",
              "    </tr>\n",
              "  </tbody>\n",
              "</table>\n",
              "<p>1770 rows × 1 columns</p>\n",
              "</div>\n",
              "      <button class=\"colab-df-convert\" onclick=\"convertToInteractive('df-690d7cf8-a781-468c-9891-974deca0aaa4')\"\n",
              "              title=\"Convert this dataframe to an interactive table.\"\n",
              "              style=\"display:none;\">\n",
              "        \n",
              "  <svg xmlns=\"http://www.w3.org/2000/svg\" height=\"24px\"viewBox=\"0 0 24 24\"\n",
              "       width=\"24px\">\n",
              "    <path d=\"M0 0h24v24H0V0z\" fill=\"none\"/>\n",
              "    <path d=\"M18.56 5.44l.94 2.06.94-2.06 2.06-.94-2.06-.94-.94-2.06-.94 2.06-2.06.94zm-11 1L8.5 8.5l.94-2.06 2.06-.94-2.06-.94L8.5 2.5l-.94 2.06-2.06.94zm10 10l.94 2.06.94-2.06 2.06-.94-2.06-.94-.94-2.06-.94 2.06-2.06.94z\"/><path d=\"M17.41 7.96l-1.37-1.37c-.4-.4-.92-.59-1.43-.59-.52 0-1.04.2-1.43.59L10.3 9.45l-7.72 7.72c-.78.78-.78 2.05 0 2.83L4 21.41c.39.39.9.59 1.41.59.51 0 1.02-.2 1.41-.59l7.78-7.78 2.81-2.81c.8-.78.8-2.07 0-2.86zM5.41 20L4 18.59l7.72-7.72 1.47 1.35L5.41 20z\"/>\n",
              "  </svg>\n",
              "      </button>\n",
              "      \n",
              "  <style>\n",
              "    .colab-df-container {\n",
              "      display:flex;\n",
              "      flex-wrap:wrap;\n",
              "      gap: 12px;\n",
              "    }\n",
              "\n",
              "    .colab-df-convert {\n",
              "      background-color: #E8F0FE;\n",
              "      border: none;\n",
              "      border-radius: 50%;\n",
              "      cursor: pointer;\n",
              "      display: none;\n",
              "      fill: #1967D2;\n",
              "      height: 32px;\n",
              "      padding: 0 0 0 0;\n",
              "      width: 32px;\n",
              "    }\n",
              "\n",
              "    .colab-df-convert:hover {\n",
              "      background-color: #E2EBFA;\n",
              "      box-shadow: 0px 1px 2px rgba(60, 64, 67, 0.3), 0px 1px 3px 1px rgba(60, 64, 67, 0.15);\n",
              "      fill: #174EA6;\n",
              "    }\n",
              "\n",
              "    [theme=dark] .colab-df-convert {\n",
              "      background-color: #3B4455;\n",
              "      fill: #D2E3FC;\n",
              "    }\n",
              "\n",
              "    [theme=dark] .colab-df-convert:hover {\n",
              "      background-color: #434B5C;\n",
              "      box-shadow: 0px 1px 3px 1px rgba(0, 0, 0, 0.15);\n",
              "      filter: drop-shadow(0px 1px 2px rgba(0, 0, 0, 0.3));\n",
              "      fill: #FFFFFF;\n",
              "    }\n",
              "  </style>\n",
              "\n",
              "      <script>\n",
              "        const buttonEl =\n",
              "          document.querySelector('#df-690d7cf8-a781-468c-9891-974deca0aaa4 button.colab-df-convert');\n",
              "        buttonEl.style.display =\n",
              "          google.colab.kernel.accessAllowed ? 'block' : 'none';\n",
              "\n",
              "        async function convertToInteractive(key) {\n",
              "          const element = document.querySelector('#df-690d7cf8-a781-468c-9891-974deca0aaa4');\n",
              "          const dataTable =\n",
              "            await google.colab.kernel.invokeFunction('convertToInteractive',\n",
              "                                                     [key], {});\n",
              "          if (!dataTable) return;\n",
              "\n",
              "          const docLinkHtml = 'Like what you see? Visit the ' +\n",
              "            '<a target=\"_blank\" href=https://colab.research.google.com/notebooks/data_table.ipynb>data table notebook</a>'\n",
              "            + ' to learn more about interactive tables.';\n",
              "          element.innerHTML = '';\n",
              "          dataTable['output_type'] = 'display_data';\n",
              "          await google.colab.output.renderOutput(dataTable, element);\n",
              "          const docLink = document.createElement('div');\n",
              "          docLink.innerHTML = docLinkHtml;\n",
              "          element.appendChild(docLink);\n",
              "        }\n",
              "      </script>\n",
              "    </div>\n",
              "  </div>\n",
              "  "
            ]
          },
          "metadata": {},
          "execution_count": 29
        }
      ]
    },
    {
      "cell_type": "code",
      "source": [
        "from sklearn.model_selection import train_test_split\n",
        "\n",
        "X_train, X_test, y_train, y_test = train_test_split(df_train, df_target['rate'], test_size=0.2, random_state=42)"
      ],
      "metadata": {
        "id": "BBW1DJ7tx3l3"
      },
      "execution_count": null,
      "outputs": []
    },
    {
      "cell_type": "code",
      "source": [
        "X_train.shape, X_test.shape, y_train.shape, y_test.shape"
      ],
      "metadata": {
        "colab": {
          "base_uri": "https://localhost:8080/"
        },
        "id": "kOd8JvVX2L57",
        "outputId": "a237f65a-b87b-4dc7-a206-2f638eb83ce1"
      },
      "execution_count": null,
      "outputs": [
        {
          "output_type": "execute_result",
          "data": {
            "text/plain": [
              "((1416, 38), (354, 38), (1416,), (354,))"
            ]
          },
          "metadata": {},
          "execution_count": 31
        }
      ]
    },
    {
      "cell_type": "code",
      "source": [
        "''' feature engineering -> '외부온도관측치', '외부습도관측치', '카메라상태', '외부환기팬상태', '외부환기팬작동남은시간'\n",
        "-> 내부와 관련없는 특성 삭제 '''\n",
        "#train_input.columns"
      ],
      "metadata": {
        "colab": {
          "base_uri": "https://localhost:8080/",
          "height": 36
        },
        "id": "ppS2AOSvmM9h",
        "outputId": "7ca6d2dc-2749-45b4-c230-82e00af192da"
      },
      "execution_count": null,
      "outputs": [
        {
          "output_type": "execute_result",
          "data": {
            "text/plain": [
              "\" feature engineering -> '외부온도관측치', '외부습도관측치', '카메라상태', '외부환기팬상태', '외부환기팬작동남은시간'\\n-> 내부와 관련없는 특성 삭제 \""
            ],
            "application/vnd.google.colaboratory.intrinsic+json": {
              "type": "string"
            }
          },
          "metadata": {},
          "execution_count": 32
        }
      ]
    },
    {
      "cell_type": "code",
      "source": [
        "def fe(df):\n",
        "  df.drop(['시간', '외부온도관측치', '외부습도관측치', '카메라상태', '외부환기팬상태', '외부환기팬작동남은시간'], axis=1, inplace=True)\n",
        "  return df\n",
        "\n",
        "fe(X_train)\n",
        "fe(X_test)"
      ],
      "metadata": {
        "colab": {
          "base_uri": "https://localhost:8080/",
          "height": 424
        },
        "id": "CtYIiYr_pWaC",
        "outputId": "2bc87d0f-d692-4788-a157-e730c3c10a92"
      },
      "execution_count": null,
      "outputs": [
        {
          "output_type": "execute_result",
          "data": {
            "text/plain": [
              "        내부온도관측치    내부습도관측치      CO2관측치     EC관측치      펌프상태  펌프작동남은시간  \\\n",
              "1004  20.892882  76.191903  411.358785  0.867168  1.954167  1.061111   \n",
              "284   23.070451  59.154514  400.329167  0.922203  2.791667  1.528819   \n",
              "423   24.970590  76.574236  437.768056  0.000000  3.070833  0.356250   \n",
              "992   20.601111  71.794097  420.057639  0.868784  2.513194  1.010417   \n",
              "533   22.710292  82.130143  411.748852  1.266815  3.210417  0.561458   \n",
              "...         ...        ...         ...       ...       ...       ...   \n",
              "1644  24.519583  77.616271  462.078819  4.661332  2.513194  1.040278   \n",
              "205   26.855417  41.788056  499.842361  1.198766  2.513194  1.525694   \n",
              "15    23.334861  68.246319  396.065972  0.753252  2.372917  1.544792   \n",
              "273   25.014583  81.490833  555.588889  0.708708  4.047917  0.509028   \n",
              "553   26.134271  83.834479  454.668403  0.000000  3.909722  0.744444   \n",
              "\n",
              "         펌프최근분무량    펌프일간누적분무량        냉방상태     냉방작동남은시간  ...  블루 LED동작강도  \\\n",
              "1004  620.858431  4670.493812  159.125694  2872.145833  ...   12.254861   \n",
              "284   717.866979  6494.836979  138.746528    85.088194  ...   13.475694   \n",
              "423   112.579979  1487.077465   30.568750    19.981250  ...   13.474653   \n",
              "992   546.776368  4272.457160  129.393750  2347.125000  ...   12.256250   \n",
              "533   166.205910  2465.310951    0.000000     0.000000  ...   35.320139   \n",
              "...          ...          ...         ...          ...  ...         ...   \n",
              "1644  769.000000  6655.588194   97.988194  1741.824306  ...    0.000000   \n",
              "205   711.339250  6565.566743  168.199306    96.401389  ...    0.000000   \n",
              "15    725.384722  5778.292847  132.606250    85.750347  ...    5.880556   \n",
              "273   120.611187  1712.224215  145.865278    80.573958  ...   13.467708   \n",
              "553   183.254667  2582.080722  135.677083    74.958333  ...   30.083333   \n",
              "\n",
              "           냉방온도       난방온도       기준온도      난방부하       냉방부하       총추정광량  \\\n",
              "1004  20.166670  16.916668  18.541669  3.536849  19.549020  184.206648   \n",
              "284   22.395983  20.395983  21.395983  0.000000   3.425064  179.552093   \n",
              "423   23.500054  22.500054  23.000054  0.000000   7.423827  179.433205   \n",
              "992   20.166615  16.916636  18.541625  4.156315  18.260925  184.254212   \n",
              "533   23.395851  22.395851  22.895851  4.003081   3.822355  113.715215   \n",
              "...         ...        ...        ...       ...        ...         ...   \n",
              "1644  23.500008  22.500008  23.000008  0.009779  10.106732  148.063428   \n",
              "205   23.395819  22.395819  22.895819  0.000000  17.276141  148.058057   \n",
              "15    22.395797  20.395797  21.395797  0.000000   4.729749    0.000000   \n",
              "273   20.291600  17.416608  18.854104  0.000000  23.640610  179.484728   \n",
              "553   23.395864  22.395864  22.895864  0.497890  18.746511   96.885883   \n",
              "\n",
              "         백색광추정광량    적색광추정광량    청색광추정광량  \n",
              "1004  151.705442  13.386643  19.114564  \n",
              "284   146.047966  12.386293  21.117834  \n",
              "423   145.967391  12.351243  21.114571  \n",
              "992   151.731226  13.376875  19.146111  \n",
              "533     0.000000  58.415589  55.299626  \n",
              "...          ...        ...        ...  \n",
              "1644  148.063428   0.000000   0.000000  \n",
              "205   148.058057   0.000000   0.000000  \n",
              "15      0.000000   0.000000   0.000000  \n",
              "273   146.032925  12.363884  21.087918  \n",
              "553     0.000000  49.765237  47.120646  \n",
              "\n",
              "[354 rows x 32 columns]"
            ],
            "text/html": [
              "\n",
              "  <div id=\"df-b8f1bbae-6a93-495e-be40-8a8819a37bcb\">\n",
              "    <div class=\"colab-df-container\">\n",
              "      <div>\n",
              "<style scoped>\n",
              "    .dataframe tbody tr th:only-of-type {\n",
              "        vertical-align: middle;\n",
              "    }\n",
              "\n",
              "    .dataframe tbody tr th {\n",
              "        vertical-align: top;\n",
              "    }\n",
              "\n",
              "    .dataframe thead th {\n",
              "        text-align: right;\n",
              "    }\n",
              "</style>\n",
              "<table border=\"1\" class=\"dataframe\">\n",
              "  <thead>\n",
              "    <tr style=\"text-align: right;\">\n",
              "      <th></th>\n",
              "      <th>내부온도관측치</th>\n",
              "      <th>내부습도관측치</th>\n",
              "      <th>CO2관측치</th>\n",
              "      <th>EC관측치</th>\n",
              "      <th>펌프상태</th>\n",
              "      <th>펌프작동남은시간</th>\n",
              "      <th>펌프최근분무량</th>\n",
              "      <th>펌프일간누적분무량</th>\n",
              "      <th>냉방상태</th>\n",
              "      <th>냉방작동남은시간</th>\n",
              "      <th>...</th>\n",
              "      <th>블루 LED동작강도</th>\n",
              "      <th>냉방온도</th>\n",
              "      <th>난방온도</th>\n",
              "      <th>기준온도</th>\n",
              "      <th>난방부하</th>\n",
              "      <th>냉방부하</th>\n",
              "      <th>총추정광량</th>\n",
              "      <th>백색광추정광량</th>\n",
              "      <th>적색광추정광량</th>\n",
              "      <th>청색광추정광량</th>\n",
              "    </tr>\n",
              "  </thead>\n",
              "  <tbody>\n",
              "    <tr>\n",
              "      <th>1004</th>\n",
              "      <td>20.892882</td>\n",
              "      <td>76.191903</td>\n",
              "      <td>411.358785</td>\n",
              "      <td>0.867168</td>\n",
              "      <td>1.954167</td>\n",
              "      <td>1.061111</td>\n",
              "      <td>620.858431</td>\n",
              "      <td>4670.493812</td>\n",
              "      <td>159.125694</td>\n",
              "      <td>2872.145833</td>\n",
              "      <td>...</td>\n",
              "      <td>12.254861</td>\n",
              "      <td>20.166670</td>\n",
              "      <td>16.916668</td>\n",
              "      <td>18.541669</td>\n",
              "      <td>3.536849</td>\n",
              "      <td>19.549020</td>\n",
              "      <td>184.206648</td>\n",
              "      <td>151.705442</td>\n",
              "      <td>13.386643</td>\n",
              "      <td>19.114564</td>\n",
              "    </tr>\n",
              "    <tr>\n",
              "      <th>284</th>\n",
              "      <td>23.070451</td>\n",
              "      <td>59.154514</td>\n",
              "      <td>400.329167</td>\n",
              "      <td>0.922203</td>\n",
              "      <td>2.791667</td>\n",
              "      <td>1.528819</td>\n",
              "      <td>717.866979</td>\n",
              "      <td>6494.836979</td>\n",
              "      <td>138.746528</td>\n",
              "      <td>85.088194</td>\n",
              "      <td>...</td>\n",
              "      <td>13.475694</td>\n",
              "      <td>22.395983</td>\n",
              "      <td>20.395983</td>\n",
              "      <td>21.395983</td>\n",
              "      <td>0.000000</td>\n",
              "      <td>3.425064</td>\n",
              "      <td>179.552093</td>\n",
              "      <td>146.047966</td>\n",
              "      <td>12.386293</td>\n",
              "      <td>21.117834</td>\n",
              "    </tr>\n",
              "    <tr>\n",
              "      <th>423</th>\n",
              "      <td>24.970590</td>\n",
              "      <td>76.574236</td>\n",
              "      <td>437.768056</td>\n",
              "      <td>0.000000</td>\n",
              "      <td>3.070833</td>\n",
              "      <td>0.356250</td>\n",
              "      <td>112.579979</td>\n",
              "      <td>1487.077465</td>\n",
              "      <td>30.568750</td>\n",
              "      <td>19.981250</td>\n",
              "      <td>...</td>\n",
              "      <td>13.474653</td>\n",
              "      <td>23.500054</td>\n",
              "      <td>22.500054</td>\n",
              "      <td>23.000054</td>\n",
              "      <td>0.000000</td>\n",
              "      <td>7.423827</td>\n",
              "      <td>179.433205</td>\n",
              "      <td>145.967391</td>\n",
              "      <td>12.351243</td>\n",
              "      <td>21.114571</td>\n",
              "    </tr>\n",
              "    <tr>\n",
              "      <th>992</th>\n",
              "      <td>20.601111</td>\n",
              "      <td>71.794097</td>\n",
              "      <td>420.057639</td>\n",
              "      <td>0.868784</td>\n",
              "      <td>2.513194</td>\n",
              "      <td>1.010417</td>\n",
              "      <td>546.776368</td>\n",
              "      <td>4272.457160</td>\n",
              "      <td>129.393750</td>\n",
              "      <td>2347.125000</td>\n",
              "      <td>...</td>\n",
              "      <td>12.256250</td>\n",
              "      <td>20.166615</td>\n",
              "      <td>16.916636</td>\n",
              "      <td>18.541625</td>\n",
              "      <td>4.156315</td>\n",
              "      <td>18.260925</td>\n",
              "      <td>184.254212</td>\n",
              "      <td>151.731226</td>\n",
              "      <td>13.376875</td>\n",
              "      <td>19.146111</td>\n",
              "    </tr>\n",
              "    <tr>\n",
              "      <th>533</th>\n",
              "      <td>22.710292</td>\n",
              "      <td>82.130143</td>\n",
              "      <td>411.748852</td>\n",
              "      <td>1.266815</td>\n",
              "      <td>3.210417</td>\n",
              "      <td>0.561458</td>\n",
              "      <td>166.205910</td>\n",
              "      <td>2465.310951</td>\n",
              "      <td>0.000000</td>\n",
              "      <td>0.000000</td>\n",
              "      <td>...</td>\n",
              "      <td>35.320139</td>\n",
              "      <td>23.395851</td>\n",
              "      <td>22.395851</td>\n",
              "      <td>22.895851</td>\n",
              "      <td>4.003081</td>\n",
              "      <td>3.822355</td>\n",
              "      <td>113.715215</td>\n",
              "      <td>0.000000</td>\n",
              "      <td>58.415589</td>\n",
              "      <td>55.299626</td>\n",
              "    </tr>\n",
              "    <tr>\n",
              "      <th>...</th>\n",
              "      <td>...</td>\n",
              "      <td>...</td>\n",
              "      <td>...</td>\n",
              "      <td>...</td>\n",
              "      <td>...</td>\n",
              "      <td>...</td>\n",
              "      <td>...</td>\n",
              "      <td>...</td>\n",
              "      <td>...</td>\n",
              "      <td>...</td>\n",
              "      <td>...</td>\n",
              "      <td>...</td>\n",
              "      <td>...</td>\n",
              "      <td>...</td>\n",
              "      <td>...</td>\n",
              "      <td>...</td>\n",
              "      <td>...</td>\n",
              "      <td>...</td>\n",
              "      <td>...</td>\n",
              "      <td>...</td>\n",
              "      <td>...</td>\n",
              "    </tr>\n",
              "    <tr>\n",
              "      <th>1644</th>\n",
              "      <td>24.519583</td>\n",
              "      <td>77.616271</td>\n",
              "      <td>462.078819</td>\n",
              "      <td>4.661332</td>\n",
              "      <td>2.513194</td>\n",
              "      <td>1.040278</td>\n",
              "      <td>769.000000</td>\n",
              "      <td>6655.588194</td>\n",
              "      <td>97.988194</td>\n",
              "      <td>1741.824306</td>\n",
              "      <td>...</td>\n",
              "      <td>0.000000</td>\n",
              "      <td>23.500008</td>\n",
              "      <td>22.500008</td>\n",
              "      <td>23.000008</td>\n",
              "      <td>0.009779</td>\n",
              "      <td>10.106732</td>\n",
              "      <td>148.063428</td>\n",
              "      <td>148.063428</td>\n",
              "      <td>0.000000</td>\n",
              "      <td>0.000000</td>\n",
              "    </tr>\n",
              "    <tr>\n",
              "      <th>205</th>\n",
              "      <td>26.855417</td>\n",
              "      <td>41.788056</td>\n",
              "      <td>499.842361</td>\n",
              "      <td>1.198766</td>\n",
              "      <td>2.513194</td>\n",
              "      <td>1.525694</td>\n",
              "      <td>711.339250</td>\n",
              "      <td>6565.566743</td>\n",
              "      <td>168.199306</td>\n",
              "      <td>96.401389</td>\n",
              "      <td>...</td>\n",
              "      <td>0.000000</td>\n",
              "      <td>23.395819</td>\n",
              "      <td>22.395819</td>\n",
              "      <td>22.895819</td>\n",
              "      <td>0.000000</td>\n",
              "      <td>17.276141</td>\n",
              "      <td>148.058057</td>\n",
              "      <td>148.058057</td>\n",
              "      <td>0.000000</td>\n",
              "      <td>0.000000</td>\n",
              "    </tr>\n",
              "    <tr>\n",
              "      <th>15</th>\n",
              "      <td>23.334861</td>\n",
              "      <td>68.246319</td>\n",
              "      <td>396.065972</td>\n",
              "      <td>0.753252</td>\n",
              "      <td>2.372917</td>\n",
              "      <td>1.544792</td>\n",
              "      <td>725.384722</td>\n",
              "      <td>5778.292847</td>\n",
              "      <td>132.606250</td>\n",
              "      <td>85.750347</td>\n",
              "      <td>...</td>\n",
              "      <td>5.880556</td>\n",
              "      <td>22.395797</td>\n",
              "      <td>20.395797</td>\n",
              "      <td>21.395797</td>\n",
              "      <td>0.000000</td>\n",
              "      <td>4.729749</td>\n",
              "      <td>0.000000</td>\n",
              "      <td>0.000000</td>\n",
              "      <td>0.000000</td>\n",
              "      <td>0.000000</td>\n",
              "    </tr>\n",
              "    <tr>\n",
              "      <th>273</th>\n",
              "      <td>25.014583</td>\n",
              "      <td>81.490833</td>\n",
              "      <td>555.588889</td>\n",
              "      <td>0.708708</td>\n",
              "      <td>4.047917</td>\n",
              "      <td>0.509028</td>\n",
              "      <td>120.611187</td>\n",
              "      <td>1712.224215</td>\n",
              "      <td>145.865278</td>\n",
              "      <td>80.573958</td>\n",
              "      <td>...</td>\n",
              "      <td>13.467708</td>\n",
              "      <td>20.291600</td>\n",
              "      <td>17.416608</td>\n",
              "      <td>18.854104</td>\n",
              "      <td>0.000000</td>\n",
              "      <td>23.640610</td>\n",
              "      <td>179.484728</td>\n",
              "      <td>146.032925</td>\n",
              "      <td>12.363884</td>\n",
              "      <td>21.087918</td>\n",
              "    </tr>\n",
              "    <tr>\n",
              "      <th>553</th>\n",
              "      <td>26.134271</td>\n",
              "      <td>83.834479</td>\n",
              "      <td>454.668403</td>\n",
              "      <td>0.000000</td>\n",
              "      <td>3.909722</td>\n",
              "      <td>0.744444</td>\n",
              "      <td>183.254667</td>\n",
              "      <td>2582.080722</td>\n",
              "      <td>135.677083</td>\n",
              "      <td>74.958333</td>\n",
              "      <td>...</td>\n",
              "      <td>30.083333</td>\n",
              "      <td>23.395864</td>\n",
              "      <td>22.395864</td>\n",
              "      <td>22.895864</td>\n",
              "      <td>0.497890</td>\n",
              "      <td>18.746511</td>\n",
              "      <td>96.885883</td>\n",
              "      <td>0.000000</td>\n",
              "      <td>49.765237</td>\n",
              "      <td>47.120646</td>\n",
              "    </tr>\n",
              "  </tbody>\n",
              "</table>\n",
              "<p>354 rows × 32 columns</p>\n",
              "</div>\n",
              "      <button class=\"colab-df-convert\" onclick=\"convertToInteractive('df-b8f1bbae-6a93-495e-be40-8a8819a37bcb')\"\n",
              "              title=\"Convert this dataframe to an interactive table.\"\n",
              "              style=\"display:none;\">\n",
              "        \n",
              "  <svg xmlns=\"http://www.w3.org/2000/svg\" height=\"24px\"viewBox=\"0 0 24 24\"\n",
              "       width=\"24px\">\n",
              "    <path d=\"M0 0h24v24H0V0z\" fill=\"none\"/>\n",
              "    <path d=\"M18.56 5.44l.94 2.06.94-2.06 2.06-.94-2.06-.94-.94-2.06-.94 2.06-2.06.94zm-11 1L8.5 8.5l.94-2.06 2.06-.94-2.06-.94L8.5 2.5l-.94 2.06-2.06.94zm10 10l.94 2.06.94-2.06 2.06-.94-2.06-.94-.94-2.06-.94 2.06-2.06.94z\"/><path d=\"M17.41 7.96l-1.37-1.37c-.4-.4-.92-.59-1.43-.59-.52 0-1.04.2-1.43.59L10.3 9.45l-7.72 7.72c-.78.78-.78 2.05 0 2.83L4 21.41c.39.39.9.59 1.41.59.51 0 1.02-.2 1.41-.59l7.78-7.78 2.81-2.81c.8-.78.8-2.07 0-2.86zM5.41 20L4 18.59l7.72-7.72 1.47 1.35L5.41 20z\"/>\n",
              "  </svg>\n",
              "      </button>\n",
              "      \n",
              "  <style>\n",
              "    .colab-df-container {\n",
              "      display:flex;\n",
              "      flex-wrap:wrap;\n",
              "      gap: 12px;\n",
              "    }\n",
              "\n",
              "    .colab-df-convert {\n",
              "      background-color: #E8F0FE;\n",
              "      border: none;\n",
              "      border-radius: 50%;\n",
              "      cursor: pointer;\n",
              "      display: none;\n",
              "      fill: #1967D2;\n",
              "      height: 32px;\n",
              "      padding: 0 0 0 0;\n",
              "      width: 32px;\n",
              "    }\n",
              "\n",
              "    .colab-df-convert:hover {\n",
              "      background-color: #E2EBFA;\n",
              "      box-shadow: 0px 1px 2px rgba(60, 64, 67, 0.3), 0px 1px 3px 1px rgba(60, 64, 67, 0.15);\n",
              "      fill: #174EA6;\n",
              "    }\n",
              "\n",
              "    [theme=dark] .colab-df-convert {\n",
              "      background-color: #3B4455;\n",
              "      fill: #D2E3FC;\n",
              "    }\n",
              "\n",
              "    [theme=dark] .colab-df-convert:hover {\n",
              "      background-color: #434B5C;\n",
              "      box-shadow: 0px 1px 3px 1px rgba(0, 0, 0, 0.15);\n",
              "      filter: drop-shadow(0px 1px 2px rgba(0, 0, 0, 0.3));\n",
              "      fill: #FFFFFF;\n",
              "    }\n",
              "  </style>\n",
              "\n",
              "      <script>\n",
              "        const buttonEl =\n",
              "          document.querySelector('#df-b8f1bbae-6a93-495e-be40-8a8819a37bcb button.colab-df-convert');\n",
              "        buttonEl.style.display =\n",
              "          google.colab.kernel.accessAllowed ? 'block' : 'none';\n",
              "\n",
              "        async function convertToInteractive(key) {\n",
              "          const element = document.querySelector('#df-b8f1bbae-6a93-495e-be40-8a8819a37bcb');\n",
              "          const dataTable =\n",
              "            await google.colab.kernel.invokeFunction('convertToInteractive',\n",
              "                                                     [key], {});\n",
              "          if (!dataTable) return;\n",
              "\n",
              "          const docLinkHtml = 'Like what you see? Visit the ' +\n",
              "            '<a target=\"_blank\" href=https://colab.research.google.com/notebooks/data_table.ipynb>data table notebook</a>'\n",
              "            + ' to learn more about interactive tables.';\n",
              "          element.innerHTML = '';\n",
              "          dataTable['output_type'] = 'display_data';\n",
              "          await google.colab.output.renderOutput(dataTable, element);\n",
              "          const docLink = document.createElement('div');\n",
              "          docLink.innerHTML = docLinkHtml;\n",
              "          element.appendChild(docLink);\n",
              "        }\n",
              "      </script>\n",
              "    </div>\n",
              "  </div>\n",
              "  "
            ]
          },
          "metadata": {},
          "execution_count": 33
        }
      ]
    },
    {
      "cell_type": "code",
      "source": [
        "# 데이터 전처리\n",
        "#train_input.isnull().sum() # 결측치 확인"
      ],
      "metadata": {
        "id": "YZjhME-q4ldO"
      },
      "execution_count": null,
      "outputs": []
    },
    {
      "cell_type": "code",
      "source": [
        "# 데이터 스케일링\n",
        "from sklearn.preprocessing import StandardScaler\n",
        "scaler = StandardScaler()\n",
        "X_train_scaled = scaler.fit_transform(X_train)\n",
        "X_test_scaled = scaler.transform(X_test)"
      ],
      "metadata": {
        "id": "pmsvT6MJKPm5"
      },
      "execution_count": null,
      "outputs": []
    },
    {
      "cell_type": "code",
      "source": [
        "X_train_scaled = pd.DataFrame(X_train_scaled, columns=X_train.columns)\n",
        "X_test_scaled = pd.DataFrame(X_test_scaled, columns=X_train.columns)"
      ],
      "metadata": {
        "id": "e5q1_6LFdFRu"
      },
      "execution_count": null,
      "outputs": []
    },
    {
      "cell_type": "code",
      "source": [
        "# RMSE -> 실제적이면서도 이상치에 대해 민감한 부분이 있어서 이상치에 대한 손실을 잘 파악할 수 있다."
      ],
      "metadata": {
        "id": "qzUCxyatakNM"
      },
      "execution_count": null,
      "outputs": []
    },
    {
      "cell_type": "code",
      "source": [
        "# 기준모델\n",
        "from sklearn.metrics import mean_squared_error\n",
        "import numpy as np\n",
        "\n",
        "baseline = [y_train.mean()] * len(y_train)\n",
        "baseline_mse = mean_squared_error(y_train, baseline)\n",
        "baseline_rmse = np.sqrt(baseline_mse)\n",
        "\n",
        "print(f'기준모델의 rmse : {baseline_rmse}')"
      ],
      "metadata": {
        "colab": {
          "base_uri": "https://localhost:8080/"
        },
        "id": "EQNoLZX2evhk",
        "outputId": "30247345-cb26-492f-b33c-9c6206ff45ae"
      },
      "execution_count": null,
      "outputs": [
        {
          "output_type": "stream",
          "name": "stdout",
          "text": [
            "기준모델의 rmse : 1.6942286476684032\n"
          ]
        }
      ]
    },
    {
      "cell_type": "code",
      "source": [
        "# 선형 회귀 모델\n",
        "from sklearn.linear_model import LinearRegression\n",
        "\n",
        "model = LinearRegression()\n",
        "model.fit(X_train_scaled, y_train)\n"
      ],
      "metadata": {
        "colab": {
          "base_uri": "https://localhost:8080/"
        },
        "id": "65IHF1hriNr8",
        "outputId": "fc02ad74-9af9-41e9-d956-e4a8800c25c2"
      },
      "execution_count": null,
      "outputs": [
        {
          "output_type": "execute_result",
          "data": {
            "text/plain": [
              "LinearRegression()"
            ]
          },
          "metadata": {},
          "execution_count": 39
        }
      ]
    },
    {
      "cell_type": "code",
      "source": [
        "# 회귀 계수 확인\n",
        "model.coef_"
      ],
      "metadata": {
        "colab": {
          "base_uri": "https://localhost:8080/"
        },
        "id": "qJkhWF-zTwY7",
        "outputId": "3afc1a8f-4012-422e-f1e8-8443b6df8ddb"
      },
      "execution_count": null,
      "outputs": [
        {
          "output_type": "execute_result",
          "data": {
            "text/plain": [
              "array([-7.58721042e-02, -2.92762185e-02,  1.05976949e-01,  9.01631460e-02,\n",
              "       -4.46570825e-02, -2.05863152e-02,  1.41781772e-02, -2.98488241e-03,\n",
              "        1.62300762e-03, -3.67862367e-04, -3.44584075e-03, -2.39800490e-02,\n",
              "       -5.60940422e-02,  2.65513991e-02,  8.93535034e+03,  2.06060046e-02,\n",
              "        5.22315907e-02, -4.10491313e+05, -2.87180182e-02,  1.13010925e-01,\n",
              "        4.01555953e+05,  3.61111910e-03,  3.98291713e-01, -2.84049925e-01,\n",
              "       -6.04436551e-02,  4.55466791e-01,  2.16336869e-02,  1.27407165e-01,\n",
              "       -2.76570143e-01,  2.40907044e-01,  4.26252256e-02, -2.16797887e-01])"
            ]
          },
          "metadata": {},
          "execution_count": 40
        }
      ]
    },
    {
      "cell_type": "code",
      "source": [
        "model_co = [-9.46818905e-02, -2.56560846e-02,  8.65940717e-02,\n",
        "         2.03103615e-02, -3.07426997e-02, -1.93157270e-02,\n",
        "         1.17148944e-02, -3.32314784e-03,  1.45938640e-03,\n",
        "         2.27587885e-03, -3.18195663e-03, -1.00050507e-02,\n",
        "        -4.29575500e-02,  1.92815572e-02,  8.35820064e+03,\n",
        "         2.89536869e-03,  9.16153675e-02, -8.35820420e+03,\n",
        "        -8.15361710e-03,  6.74588017e-02, -6.19863189e-03,\n",
        "         1.63664191e-03,  3.86609659e-01, -1.82605696e-01,\n",
        "         1.38943860e-02,  2.95622631e-01,  4.74616282e-03,\n",
        "         1.31002143e-01, -5.77927170e-01,  4.48627399e-01,\n",
        "         2.01127793e-01, -1.38218578e-01]"
      ],
      "metadata": {
        "id": "DaDzOnW3cZ26"
      },
      "execution_count": null,
      "outputs": []
    },
    {
      "cell_type": "code",
      "source": [
        "model_coef = pd.Series(model_co, model.feature_names_in_)\n",
        "model_coef.sort_values(ascending=False)"
      ],
      "metadata": {
        "colab": {
          "base_uri": "https://localhost:8080/"
        },
        "id": "gAPhgD54TlH0",
        "outputId": "7ee866ac-9971-4bcf-aba9-7f113d84370e"
      },
      "execution_count": null,
      "outputs": [
        {
          "output_type": "execute_result",
          "data": {
            "text/plain": [
              "화이트 LED상태        8358.200640\n",
              "백색광추정광량             0.448627\n",
              "블루 LED동작강도          0.386610\n",
              "기준온도                0.295623\n",
              "적색광추정광량             0.201128\n",
              "냉방부하                0.131002\n",
              "화이트 LED동작강도         0.091615\n",
              "CO2관측치              0.086594\n",
              "레드 LED동작강도          0.067459\n",
              "EC관측치               0.020310\n",
              "내부유동팬작동남은시간         0.019282\n",
              "난방온도                0.013894\n",
              "펌프최근분무량             0.011715\n",
              "난방부하                0.004746\n",
              "화이트 LED작동남은시간       0.002895\n",
              "냉방작동남은시간            0.002276\n",
              "블루 LED작동남은시간        0.001637\n",
              "냉방상태                0.001459\n",
              "난방상태               -0.003182\n",
              "펌프일간누적분무량          -0.003323\n",
              "블루 LED상태           -0.006199\n",
              "레드 LED작동남은시간       -0.008154\n",
              "난방작동남은시간           -0.010005\n",
              "펌프작동남은시간           -0.019316\n",
              "내부습도관측치            -0.025656\n",
              "펌프상태               -0.030743\n",
              "내부유동팬상태            -0.042958\n",
              "내부온도관측치            -0.094682\n",
              "청색광추정광량            -0.138219\n",
              "냉방온도               -0.182606\n",
              "총추정광량              -0.577927\n",
              "레드 LED상태        -8358.204200\n",
              "dtype: float64"
            ]
          },
          "metadata": {},
          "execution_count": 42
        }
      ]
    },
    {
      "cell_type": "code",
      "source": [
        "# Cross-validation\n",
        "\n",
        "from sklearn.model_selection import cross_val_score\n",
        "\n",
        "cv_results = cross_val_score(\n",
        "    model, \n",
        "    X_train_scaled, \n",
        "    y_train, \n",
        "    cv=5,\n",
        "    scoring=\"neg_mean_squared_error\",\n",
        "    n_jobs=-1\n",
        "    )\n",
        "\n",
        "rmse = np.sqrt(-1 * cv_results)\n",
        "print('rmse for each fold : ', rmse)\n",
        "print('average rmse for model : ', (sum(rmse) - max(rmse) - min(rmse)) / (len(rmse)-2))\n",
        "print('std of result : ', np.std(cv_results).round(2))"
      ],
      "metadata": {
        "colab": {
          "base_uri": "https://localhost:8080/"
        },
        "id": "iCVcbpqCDY3s",
        "outputId": "a180e3b1-29d8-4905-f808-e28a22f59df8"
      },
      "execution_count": null,
      "outputs": [
        {
          "output_type": "stream",
          "name": "stdout",
          "text": [
            "rmse for each fold :  [   1.04348296 1006.40377682    2.72358979    2.77039496    3.116267  ]\n",
            "average rmse for model :  2.8700839172422232\n",
            "std of result :  405136.84\n"
          ]
        }
      ]
    },
    {
      "cell_type": "code",
      "source": [
        "# test\n",
        "y_pred_lr = model.predict(X_test_scaled)"
      ],
      "metadata": {
        "id": "6rlfiyce4rcx"
      },
      "execution_count": null,
      "outputs": []
    },
    {
      "cell_type": "code",
      "source": [
        "import numpy as np\n",
        "from sklearn.metrics import mean_squared_error\n",
        "\n",
        "mse = mean_squared_error(y_test, y_pred_lr)\n",
        "rmse = np.sqrt(mse)\n",
        "print(\"rmse : \", rmse)"
      ],
      "metadata": {
        "colab": {
          "base_uri": "https://localhost:8080/"
        },
        "id": "gyq5ynKY5Bi7",
        "outputId": "2950e4ea-060b-46df-e4ce-b6c08e660612"
      },
      "execution_count": null,
      "outputs": [
        {
          "output_type": "stream",
          "name": "stdout",
          "text": [
            "rmse :  251126.36426642677\n"
          ]
        }
      ]
    },
    {
      "cell_type": "code",
      "source": [
        "# Ridge -> 최종 선택 모델\n",
        "from sklearn.linear_model import RidgeCV\n",
        "\n",
        "alphas = np.arange(1, 100, 10)\n",
        "ridge = RidgeCV(alphas=alphas, cv=5, scoring=None)\n",
        "ridge.fit(X_train_scaled, y_train)\n",
        "\n",
        "print(\"alpha: \", ridge.alpha_)"
      ],
      "metadata": {
        "colab": {
          "base_uri": "https://localhost:8080/"
        },
        "id": "DFZqVZRcJHae",
        "outputId": "a0b9158f-c7ca-4080-8658-bf7871cadd05"
      },
      "execution_count": null,
      "outputs": [
        {
          "output_type": "stream",
          "name": "stdout",
          "text": [
            "alpha:  91\n"
          ]
        }
      ]
    },
    {
      "cell_type": "code",
      "source": [
        "cv_ridge = cross_val_score(\n",
        "    ridge, \n",
        "    X_train_scaled, \n",
        "    y_train, \n",
        "    cv=5,\n",
        "    scoring=\"neg_mean_squared_error\",\n",
        "    n_jobs=-1\n",
        "    )\n",
        "\n",
        "rmse = np.sqrt(-1 * cv_ridge)\n",
        "print('rmse for each fold : ', rmse)\n",
        "print('average rmse for model : ', (sum(rmse) - max(rmse) - min(rmse)) / (len(rmse)-2))\n",
        "print('std of result : ', np.std(cv_ridge).round(2))"
      ],
      "metadata": {
        "colab": {
          "base_uri": "https://localhost:8080/"
        },
        "id": "EPp-pJtlM-KA",
        "outputId": "d5554bb7-0eb2-4fa9-9308-c01867b729c2"
      },
      "execution_count": null,
      "outputs": [
        {
          "output_type": "stream",
          "name": "stdout",
          "text": [
            "rmse for each fold :  [1.01772075 1.18828134 1.49152886 0.45663617 3.11285307]\n",
            "average rmse for model :  1.232510317454495\n",
            "std of result :  3.45\n"
          ]
        }
      ]
    },
    {
      "cell_type": "code",
      "source": [
        "ridge.coef_"
      ],
      "metadata": {
        "colab": {
          "base_uri": "https://localhost:8080/"
        },
        "id": "13_8YrgCc1L_",
        "outputId": "de332f09-0c8d-4b29-cd4c-07160a4a0dc5"
      },
      "execution_count": null,
      "outputs": [
        {
          "output_type": "execute_result",
          "data": {
            "text/plain": [
              "array([ 0.01195705, -0.02765652,  0.08576098,  0.01614363, -0.04072767,\n",
              "       -0.0179053 ,  0.00825142, -0.00069426, -0.00477002,  0.00379111,\n",
              "       -0.02115876,  0.00265711, -0.02119367,  0.00628447, -0.00278371,\n",
              "        0.01006359,  0.03229203, -0.00278922, -0.0155227 , -0.00849962,\n",
              "       -0.00278915,  0.00366294,  0.07718229, -0.06830627, -0.01609399,\n",
              "        0.04249375, -0.00385279, -0.01139488,  0.00699439,  0.01120573,\n",
              "        0.01215464,  0.01949775])"
            ]
          },
          "metadata": {},
          "execution_count": 48
        }
      ]
    },
    {
      "cell_type": "code",
      "source": [
        "ridge_co = [ 0.00208513, -0.02457555,  0.06921304,  0.01348108, -0.03411588,\n",
        "        -0.01744217,  0.00851648, -0.00054919, -0.00377882,  0.00391483,\n",
        "        -0.01531202,  0.01005536, -0.02310549,  0.00795994,  0.00018065,\n",
        "         0.00199026,  0.03599755,  0.0001708 , -0.00625693, -0.00098771,\n",
        "        -0.00843252,  0.00208499,  0.06083651, -0.07161183, -0.00542911,\n",
        "         0.04873599, -0.00320402, -0.018716  ,  0.00856037,  0.01435447,\n",
        "         0.03044232,  0.00081971]"
      ],
      "metadata": {
        "id": "bpX86veic7CX"
      },
      "execution_count": null,
      "outputs": []
    },
    {
      "cell_type": "code",
      "source": [
        "ridge_coef = pd.Series(ridge_co, ridge.feature_names_in_)\n",
        "ridge_coef.sort_values(ascending=False)"
      ],
      "metadata": {
        "colab": {
          "base_uri": "https://localhost:8080/"
        },
        "id": "vyDFBa4QOesU",
        "outputId": "422c61db-6c61-4bae-ff3c-4d722c6e9f24"
      },
      "execution_count": null,
      "outputs": [
        {
          "output_type": "execute_result",
          "data": {
            "text/plain": [
              "CO2관측치           0.069213\n",
              "블루 LED동작강도       0.060837\n",
              "기준온도             0.048736\n",
              "화이트 LED동작강도      0.035998\n",
              "적색광추정광량          0.030442\n",
              "백색광추정광량          0.014354\n",
              "EC관측치            0.013481\n",
              "난방작동남은시간         0.010055\n",
              "총추정광량            0.008560\n",
              "펌프최근분무량          0.008516\n",
              "내부유동팬작동남은시간      0.007960\n",
              "냉방작동남은시간         0.003915\n",
              "내부온도관측치          0.002085\n",
              "블루 LED작동남은시간     0.002085\n",
              "화이트 LED작동남은시간    0.001990\n",
              "청색광추정광량          0.000820\n",
              "화이트 LED상태        0.000181\n",
              "레드 LED상태         0.000171\n",
              "펌프일간누적분무량       -0.000549\n",
              "레드 LED동작강도      -0.000988\n",
              "난방부하            -0.003204\n",
              "냉방상태            -0.003779\n",
              "난방온도            -0.005429\n",
              "레드 LED작동남은시간    -0.006257\n",
              "블루 LED상태        -0.008433\n",
              "난방상태            -0.015312\n",
              "펌프작동남은시간        -0.017442\n",
              "냉방부하            -0.018716\n",
              "내부유동팬상태         -0.023105\n",
              "내부습도관측치         -0.024576\n",
              "펌프상태            -0.034116\n",
              "냉방온도            -0.071612\n",
              "dtype: float64"
            ]
          },
          "metadata": {},
          "execution_count": 50
        }
      ]
    },
    {
      "cell_type": "code",
      "source": [
        "!apt-get update -qq\n",
        "!apt-get install fonts-nanum* -qq\n",
        "\n",
        "import matplotlib.font_manager as fm\n",
        "import matplotlib.pyplot as plt\n",
        "import warnings\n",
        "warnings.filterwarnings(action='ignore') \n",
        "\n",
        "path = '/usr/share/fonts/truetype/nanum/NanumGothic.ttf' # 나눔 고딕\n",
        "font_name = fm.FontProperties(fname=path, size=10).get_name() # 기본 폰트 사이즈 : 10\n",
        "plt.rc('font', family=font_name)\n",
        "fm._rebuild()"
      ],
      "metadata": {
        "id": "Eo_nl4A4yZqY"
      },
      "execution_count": null,
      "outputs": []
    },
    {
      "cell_type": "code",
      "source": [
        "# 회귀계수 시각화\n",
        "\n",
        "ridge_coef.sort_values().tail(20).plot.barh(figsize=(10, 12))\n",
        "plt.title(\"regression coefficient\", fontsize=20)\n",
        "plt.rc('ytick', labelsize=13) \n",
        "plt.show()"
      ],
      "metadata": {
        "colab": {
          "base_uri": "https://localhost:8080/",
          "height": 720
        },
        "id": "IDDQPaLUvymY",
        "outputId": "910a7c4c-6552-4e85-9587-0f76534358a2"
      },
      "execution_count": null,
      "outputs": [
        {
          "output_type": "display_data",
          "data": {
            "text/plain": [
              "<Figure size 720x864 with 1 Axes>"
            ],
            "image/png": "[encoded data removed]"
          },
          "metadata": {
            "needs_background": "light"
          }
        }
      ]
    },
    {
      "cell_type": "code",
      "source": [
        "y_pred_rid = ridge.predict(X_test_scaled)"
      ],
      "metadata": {
        "id": "Wy-MDQp06TOS"
      },
      "execution_count": null,
      "outputs": []
    },
    {
      "cell_type": "code",
      "source": [
        "mse = mean_squared_error(y_test, y_pred_rid)\n",
        "rmse = np.sqrt(mse)\n",
        "print(\"rmse : \", rmse)"
      ],
      "metadata": {
        "colab": {
          "base_uri": "https://localhost:8080/"
        },
        "id": "GJHV7GFc6ccT",
        "outputId": "fe4c23c9-8236-4220-e99a-4b85442d27b1"
      },
      "execution_count": null,
      "outputs": [
        {
          "output_type": "stream",
          "name": "stdout",
          "text": [
            "rmse :  0.8745810127159012\n"
          ]
        }
      ]
    },
    {
      "cell_type": "code",
      "source": [
        "# XGBoost\n",
        "\n",
        "import xgboost as xgb\n",
        "\n",
        "xgbr = xgb.XGBRegressor(\n",
        "    objective ='reg:linear',\n",
        "    eval_metric=\"rmse\",\n",
        "    learning_rate=0.05,\n",
        "    max_depth=6,\n",
        "    n_estimators=100\n",
        "    )\n",
        "xgbr.fit(X_train_scaled, y_train)"
      ],
      "metadata": {
        "colab": {
          "base_uri": "https://localhost:8080/"
        },
        "id": "ekeSufHKS_fj",
        "outputId": "faca0b92-f844-4587-8d18-605b8ce5a8fc"
      },
      "execution_count": null,
      "outputs": [
        {
          "output_type": "stream",
          "name": "stdout",
          "text": [
            "[04:45:30] WARNING: /workspace/src/objective/regression_obj.cu:152: reg:linear is now deprecated in favor of reg:squarederror.\n"
          ]
        },
        {
          "output_type": "execute_result",
          "data": {
            "text/plain": [
              "XGBRegressor(eval_metric='rmse', learning_rate=0.05, max_depth=6)"
            ]
          },
          "metadata": {},
          "execution_count": 55
        }
      ]
    },
    {
      "cell_type": "code",
      "source": [
        "from scipy.stats.distributions import uniform\n",
        "\n",
        "params = {\n",
        "    \"xgbregressor__max_depth\": [2, 4, 6],\n",
        "    \"xgbregressor__min_child_weight\": [2, 4, 8],\n",
        "    \"xgbregressor__colsample_bytree\": uniform(\n",
        "        loc=0.5, scale=0.5\n",
        "    ),\n",
        "}"
      ],
      "metadata": {
        "id": "1sxvxn5MWAhg"
      },
      "execution_count": null,
      "outputs": []
    },
    {
      "cell_type": "code",
      "source": [
        "from sklearn.model_selection import RandomizedSearchCV\n",
        "\n",
        "randomized_search = RandomizedSearchCV(\n",
        "    xgbr,\n",
        "    param_distributions=params,\n",
        "    scoring=\"neg_root_mean_squared_error\",\n",
        "    n_iter=10,\n",
        "    cv=3,\n",
        "    verbose=3,\n",
        "    random_state=42,\n",
        ")\n",
        "randomized_search.fit(X_train_scaled, y_train)"
      ],
      "metadata": {
        "colab": {
          "base_uri": "https://localhost:8080/"
        },
        "id": "4jwEFeCTWBMc",
        "outputId": "3f602c80-d91c-43ec-aaa4-af89dddf8eb3"
      },
      "execution_count": null,
      "outputs": [
        {
          "output_type": "stream",
          "name": "stdout",
          "text": [
            "Fitting 3 folds for each of 10 candidates, totalling 30 fits\n",
            "[04:45:31] WARNING: /workspace/src/objective/regression_obj.cu:152: reg:linear is now deprecated in favor of reg:squarederror.\n",
            "[CV 1/3] END xgbregressor__colsample_bytree=0.6872700594236812, xgbregressor__max_depth=2, xgbregressor__min_child_weight=8;, score=-1.373 total time=   0.6s\n",
            "[04:45:32] WARNING: /workspace/src/objective/regression_obj.cu:152: reg:linear is now deprecated in favor of reg:squarederror.\n",
            "[CV 2/3] END xgbregressor__colsample_bytree=0.6872700594236812, xgbregressor__max_depth=2, xgbregressor__min_child_weight=8;, score=-1.290 total time=   0.6s\n",
            "[04:45:32] WARNING: /workspace/src/objective/regression_obj.cu:152: reg:linear is now deprecated in favor of reg:squarederror.\n",
            "[CV 3/3] END xgbregressor__colsample_bytree=0.6872700594236812, xgbregressor__max_depth=2, xgbregressor__min_child_weight=8;, score=-2.603 total time=   0.6s\n",
            "[04:45:33] WARNING: /workspace/src/objective/regression_obj.cu:152: reg:linear is now deprecated in favor of reg:squarederror.\n",
            "[CV 1/3] END xgbregressor__colsample_bytree=0.8659969709057025, xgbregressor__max_depth=2, xgbregressor__min_child_weight=2;, score=-1.373 total time=   0.5s\n",
            "[04:45:33] WARNING: /workspace/src/objective/regression_obj.cu:152: reg:linear is now deprecated in favor of reg:squarederror.\n",
            "[CV 2/3] END xgbregressor__colsample_bytree=0.8659969709057025, xgbregressor__max_depth=2, xgbregressor__min_child_weight=2;, score=-1.290 total time=   0.4s\n",
            "[04:45:34] WARNING: /workspace/src/objective/regression_obj.cu:152: reg:linear is now deprecated in favor of reg:squarederror.\n",
            "[CV 3/3] END xgbregressor__colsample_bytree=0.8659969709057025, xgbregressor__max_depth=2, xgbregressor__min_child_weight=2;, score=-2.603 total time=   0.4s\n",
            "[04:45:34] WARNING: /workspace/src/objective/regression_obj.cu:152: reg:linear is now deprecated in favor of reg:squarederror.\n",
            "[CV 1/3] END xgbregressor__colsample_bytree=0.5780093202212182, xgbregressor__max_depth=6, xgbregressor__min_child_weight=8;, score=-1.373 total time=   0.4s\n",
            "[04:45:35] WARNING: /workspace/src/objective/regression_obj.cu:152: reg:linear is now deprecated in favor of reg:squarederror.\n",
            "[CV 2/3] END xgbregressor__colsample_bytree=0.5780093202212182, xgbregressor__max_depth=6, xgbregressor__min_child_weight=8;, score=-1.290 total time=   0.4s\n",
            "[04:45:35] WARNING: /workspace/src/objective/regression_obj.cu:152: reg:linear is now deprecated in favor of reg:squarederror.\n",
            "[CV 3/3] END xgbregressor__colsample_bytree=0.5780093202212182, xgbregressor__max_depth=6, xgbregressor__min_child_weight=8;, score=-2.603 total time=   0.4s\n",
            "[04:45:35] WARNING: /workspace/src/objective/regression_obj.cu:152: reg:linear is now deprecated in favor of reg:squarederror.\n",
            "[CV 1/3] END xgbregressor__colsample_bytree=0.5290418060840998, xgbregressor__max_depth=2, xgbregressor__min_child_weight=8;, score=-1.373 total time=   0.4s\n",
            "[04:45:36] WARNING: /workspace/src/objective/regression_obj.cu:152: reg:linear is now deprecated in favor of reg:squarederror.\n",
            "[CV 2/3] END xgbregressor__colsample_bytree=0.5290418060840998, xgbregressor__max_depth=2, xgbregressor__min_child_weight=8;, score=-1.290 total time=   0.4s\n",
            "[04:45:36] WARNING: /workspace/src/objective/regression_obj.cu:152: reg:linear is now deprecated in favor of reg:squarederror.\n",
            "[CV 3/3] END xgbregressor__colsample_bytree=0.5290418060840998, xgbregressor__max_depth=2, xgbregressor__min_child_weight=8;, score=-2.603 total time=   0.4s\n",
            "[04:45:37] WARNING: /workspace/src/objective/regression_obj.cu:152: reg:linear is now deprecated in favor of reg:squarederror.\n",
            "[CV 1/3] END xgbregressor__colsample_bytree=0.5102922471479012, xgbregressor__max_depth=4, xgbregressor__min_child_weight=4;, score=-1.373 total time=   0.4s\n",
            "[04:45:37] WARNING: /workspace/src/objective/regression_obj.cu:152: reg:linear is now deprecated in favor of reg:squarederror.\n",
            "[CV 2/3] END xgbregressor__colsample_bytree=0.5102922471479012, xgbregressor__max_depth=4, xgbregressor__min_child_weight=4;, score=-1.290 total time=   0.4s\n",
            "[04:45:37] WARNING: /workspace/src/objective/regression_obj.cu:152: reg:linear is now deprecated in favor of reg:squarederror.\n",
            "[CV 3/3] END xgbregressor__colsample_bytree=0.5102922471479012, xgbregressor__max_depth=4, xgbregressor__min_child_weight=4;, score=-2.603 total time=   0.4s\n",
            "[04:45:38] WARNING: /workspace/src/objective/regression_obj.cu:152: reg:linear is now deprecated in favor of reg:squarederror.\n",
            "[CV 1/3] END xgbregressor__colsample_bytree=0.6061695553391381, xgbregressor__max_depth=2, xgbregressor__min_child_weight=2;, score=-1.373 total time=   0.4s\n",
            "[04:45:38] WARNING: /workspace/src/objective/regression_obj.cu:152: reg:linear is now deprecated in favor of reg:squarederror.\n",
            "[CV 2/3] END xgbregressor__colsample_bytree=0.6061695553391381, xgbregressor__max_depth=2, xgbregressor__min_child_weight=2;, score=-1.290 total time=   0.4s\n",
            "[04:45:39] WARNING: /workspace/src/objective/regression_obj.cu:152: reg:linear is now deprecated in favor of reg:squarederror.\n",
            "[CV 3/3] END xgbregressor__colsample_bytree=0.6061695553391381, xgbregressor__max_depth=2, xgbregressor__min_child_weight=2;, score=-2.603 total time=   0.4s\n",
            "[04:45:39] WARNING: /workspace/src/objective/regression_obj.cu:152: reg:linear is now deprecated in favor of reg:squarederror.\n",
            "[CV 1/3] END xgbregressor__colsample_bytree=0.6521211214797689, xgbregressor__max_depth=4, xgbregressor__min_child_weight=2;, score=-1.373 total time=   0.4s\n",
            "[04:45:39] WARNING: /workspace/src/objective/regression_obj.cu:152: reg:linear is now deprecated in favor of reg:squarederror.\n",
            "[CV 2/3] END xgbregressor__colsample_bytree=0.6521211214797689, xgbregressor__max_depth=4, xgbregressor__min_child_weight=2;, score=-1.290 total time=   0.4s\n",
            "[04:45:40] WARNING: /workspace/src/objective/regression_obj.cu:152: reg:linear is now deprecated in favor of reg:squarederror.\n",
            "[CV 3/3] END xgbregressor__colsample_bytree=0.6521211214797689, xgbregressor__max_depth=4, xgbregressor__min_child_weight=2;, score=-2.603 total time=   0.4s\n",
            "[04:45:40] WARNING: /workspace/src/objective/regression_obj.cu:152: reg:linear is now deprecated in favor of reg:squarederror.\n",
            "[CV 1/3] END xgbregressor__colsample_bytree=0.7159725093210578, xgbregressor__max_depth=2, xgbregressor__min_child_weight=8;, score=-1.373 total time=   0.4s\n",
            "[04:45:40] WARNING: /workspace/src/objective/regression_obj.cu:152: reg:linear is now deprecated in favor of reg:squarederror.\n",
            "[CV 2/3] END xgbregressor__colsample_bytree=0.7159725093210578, xgbregressor__max_depth=2, xgbregressor__min_child_weight=8;, score=-1.290 total time=   0.4s\n",
            "[04:45:41] WARNING: /workspace/src/objective/regression_obj.cu:152: reg:linear is now deprecated in favor of reg:squarederror.\n",
            "[CV 3/3] END xgbregressor__colsample_bytree=0.7159725093210578, xgbregressor__max_depth=2, xgbregressor__min_child_weight=8;, score=-2.603 total time=   0.4s\n",
            "[04:45:41] WARNING: /workspace/src/objective/regression_obj.cu:152: reg:linear is now deprecated in favor of reg:squarederror.\n",
            "[CV 1/3] END xgbregressor__colsample_bytree=0.8059264473611898, xgbregressor__max_depth=4, xgbregressor__min_child_weight=8;, score=-1.373 total time=   0.4s\n",
            "[04:45:42] WARNING: /workspace/src/objective/regression_obj.cu:152: reg:linear is now deprecated in favor of reg:squarederror.\n",
            "[CV 2/3] END xgbregressor__colsample_bytree=0.8059264473611898, xgbregressor__max_depth=4, xgbregressor__min_child_weight=8;, score=-1.290 total time=   0.4s\n",
            "[04:45:42] WARNING: /workspace/src/objective/regression_obj.cu:152: reg:linear is now deprecated in favor of reg:squarederror.\n",
            "[CV 3/3] END xgbregressor__colsample_bytree=0.8059264473611898, xgbregressor__max_depth=4, xgbregressor__min_child_weight=8;, score=-2.603 total time=   0.4s\n",
            "[04:45:42] WARNING: /workspace/src/objective/regression_obj.cu:152: reg:linear is now deprecated in favor of reg:squarederror.\n",
            "[CV 1/3] END xgbregressor__colsample_bytree=0.728034992108518, xgbregressor__max_depth=6, xgbregressor__min_child_weight=4;, score=-1.373 total time=   0.4s\n",
            "[04:45:43] WARNING: /workspace/src/objective/regression_obj.cu:152: reg:linear is now deprecated in favor of reg:squarederror.\n",
            "[CV 2/3] END xgbregressor__colsample_bytree=0.728034992108518, xgbregressor__max_depth=6, xgbregressor__min_child_weight=4;, score=-1.290 total time=   0.4s\n",
            "[04:45:43] WARNING: /workspace/src/objective/regression_obj.cu:152: reg:linear is now deprecated in favor of reg:squarederror.\n",
            "[CV 3/3] END xgbregressor__colsample_bytree=0.728034992108518, xgbregressor__max_depth=6, xgbregressor__min_child_weight=4;, score=-2.603 total time=   0.4s\n",
            "[04:45:44] WARNING: /workspace/src/objective/regression_obj.cu:152: reg:linear is now deprecated in favor of reg:squarederror.\n"
          ]
        },
        {
          "output_type": "execute_result",
          "data": {
            "text/plain": [
              "RandomizedSearchCV(cv=3,\n",
              "                   estimator=XGBRegressor(eval_metric='rmse',\n",
              "                                          learning_rate=0.05, max_depth=6),\n",
              "                   param_distributions={'xgbregressor__colsample_bytree': <scipy.stats._distn_infrastructure.rv_frozen object at 0x7fcab29be410>,\n",
              "                                        'xgbregressor__max_depth': [2, 4, 6],\n",
              "                                        'xgbregressor__min_child_weight': [2, 4,\n",
              "                                                                           8]},\n",
              "                   random_state=42, scoring='neg_root_mean_squared_error',\n",
              "                   verbose=3)"
            ]
          },
          "metadata": {},
          "execution_count": 57
        }
      ]
    },
    {
      "cell_type": "code",
      "source": [
        "print(\"최적 하이퍼파라미터: \", randomized_search.best_params_)\n",
        "print(\"최적 rmse: \", -randomized_search.best_score_)"
      ],
      "metadata": {
        "colab": {
          "base_uri": "https://localhost:8080/"
        },
        "id": "pxIoMwkjiqc9",
        "outputId": "88113028-c153-41f9-bb16-5ac710ef07a0"
      },
      "execution_count": null,
      "outputs": [
        {
          "output_type": "stream",
          "name": "stdout",
          "text": [
            "최적 하이퍼파라미터:  {'xgbregressor__colsample_bytree': 0.6872700594236812, 'xgbregressor__max_depth': 2, 'xgbregressor__min_child_weight': 8}\n",
            "최적 rmse:  1.7553763135322604\n"
          ]
        }
      ]
    },
    {
      "cell_type": "code",
      "source": [
        "# 최적 하이퍼파라미터를 바탕으로 한 모델링 -> 회귀계수 파악을 위함\n",
        "xgbr_re = xgb.XGBRegressor(\n",
        "    objective ='reg:linear',\n",
        "    eval_metric=\"rmse\",\n",
        "    learning_rate=0.05,\n",
        "    max_depth=2,\n",
        "    n_estimators=100,\n",
        "    colsample_bytree= 0.6872700594236812,\n",
        "    min_child_weight= 8\n",
        "    )\n",
        "xgbr_re.fit(X_train_scaled, y_train)"
      ],
      "metadata": {
        "colab": {
          "base_uri": "https://localhost:8080/"
        },
        "id": "6bp-KXcf3bUO",
        "outputId": "d835af48-c615-4716-9560-f5c6f69c01de"
      },
      "execution_count": null,
      "outputs": [
        {
          "output_type": "stream",
          "name": "stdout",
          "text": [
            "[04:45:44] WARNING: /workspace/src/objective/regression_obj.cu:152: reg:linear is now deprecated in favor of reg:squarederror.\n"
          ]
        },
        {
          "output_type": "execute_result",
          "data": {
            "text/plain": [
              "XGBRegressor(colsample_bytree=0.6872700594236812, eval_metric='rmse',\n",
              "             learning_rate=0.05, max_depth=2, min_child_weight=8)"
            ]
          },
          "metadata": {},
          "execution_count": 59
        }
      ]
    },
    {
      "cell_type": "code",
      "source": [
        "xgbr_inportance = pd.Series(xgbr_re.feature_importances_, X_train_scaled.columns)\n",
        "xgbr_inportance.sort_values(ascending=False)"
      ],
      "metadata": {
        "colab": {
          "base_uri": "https://localhost:8080/"
        },
        "id": "c60u2rT-t5TE",
        "outputId": "af13deae-dd7d-43fc-e65a-0955f8fc7d91"
      },
      "execution_count": null,
      "outputs": [
        {
          "output_type": "execute_result",
          "data": {
            "text/plain": [
              "화이트 LED동작강도      0.127848\n",
              "냉방작동남은시간         0.119493\n",
              "레드 LED동작강도       0.118967\n",
              "펌프일간누적분무량        0.090658\n",
              "냉방상태             0.088614\n",
              "펌프최근분무량          0.057621\n",
              "냉방부하             0.054439\n",
              "EC관측치            0.053830\n",
              "블루 LED동작강도       0.042910\n",
              "내부습도관측치          0.040497\n",
              "청색광추정광량          0.038498\n",
              "난방부하             0.032659\n",
              "레드 LED상태         0.031054\n",
              "총추정광량            0.021815\n",
              "기준온도             0.016544\n",
              "냉방온도             0.012577\n",
              "CO2관측치           0.011612\n",
              "내부온도관측치          0.009974\n",
              "난방작동남은시간         0.006237\n",
              "화이트 LED상태        0.005833\n",
              "블루 LED상태         0.005701\n",
              "백색광추정광량          0.005137\n",
              "블루 LED작동남은시간     0.005084\n",
              "펌프상태             0.002397\n",
              "펌프작동남은시간         0.000000\n",
              "내부유동팬상태          0.000000\n",
              "레드 LED작동남은시간     0.000000\n",
              "난방온도             0.000000\n",
              "난방상태             0.000000\n",
              "화이트 LED작동남은시간    0.000000\n",
              "내부유동팬작동남은시간      0.000000\n",
              "적색광추정광량          0.000000\n",
              "dtype: float32"
            ]
          },
          "metadata": {},
          "execution_count": 60
        }
      ]
    },
    {
      "cell_type": "code",
      "source": [
        "y_pred_xgb = xgbr_re.predict(X_test_scaled)"
      ],
      "metadata": {
        "id": "GyAsev1g7NZR"
      },
      "execution_count": null,
      "outputs": []
    },
    {
      "cell_type": "code",
      "source": [
        "mse = mean_squared_error(y_test, y_pred_xgb)\n",
        "rmse = np.sqrt(mse)\n",
        "print(\"rmse : \", rmse)"
      ],
      "metadata": {
        "colab": {
          "base_uri": "https://localhost:8080/"
        },
        "id": "gUwOcLCV7nmn",
        "outputId": "7f60c56f-c989-4b07-bcbd-38f9dbbca2aa"
      },
      "execution_count": null,
      "outputs": [
        {
          "output_type": "stream",
          "name": "stdout",
          "text": [
            "rmse :  0.9080591578672936\n"
          ]
        }
      ]
    }
  ]
}